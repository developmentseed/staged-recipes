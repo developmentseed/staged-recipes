{
 "cells": [
  {
   "cell_type": "code",
   "execution_count": 2,
   "id": "c1f1cec2-e3c4-453c-94bb-91b08f0a7f38",
   "metadata": {},
   "outputs": [],
   "source": [
    "from pangeo_forge_recipes.recipes import XarrayZarrRecipe\n",
    "from pangeo_forge_recipes.patterns import pattern_from_file_sequence\n",
    "import pandas as pd"
   ]
  },
  {
   "cell_type": "code",
   "execution_count": 3,
   "id": "8df8c855-b364-498e-b2ab-140530c4bf0c",
   "metadata": {},
   "outputs": [],
   "source": [
    "#url example\n",
    "# https://arthurhouhttps.pps.eosdis.nasa.gov/gpmdata/2021/04/30/imerg/3B-HHR.MS.MRG.3IMERG.20210430-S000000-E002959.0000.V06B.HDF5\n",
    "# Login is via the PPS system, username/password is the email address you register with\n",
    "input_url_pattern = (\n",
    "    \"https://arthurhouhttps.pps.eosdis.nasa.gov/gpmdata/{yyyy}/{mm}/{dd}/imerg/3B-HHR.MS.MRG.3IMERG.{yyyymmdd}-S000000-E002959.0000.V06B.HDF5\"\n",
    ")"
   ]
  },
  {
   "cell_type": "code",
   "execution_count": 7,
   "id": "62a3cd82-2ed6-44b1-851f-d3bf3485f0b0",
   "metadata": {},
   "outputs": [
    {
     "name": "stdout",
     "output_type": "stream",
     "text": [
      "Found 7670 files!\n"
     ]
    },
    {
     "data": {
      "text/plain": [
       "'https://arthurhouhttps.pps.eosdis.nasa.gov/gpmdata/2018/09/05/imerg/3B-HHR.MS.MRG.3IMERG.20180905-S000000-E002959.0000.V06B.HDF5'"
      ]
     },
     "execution_count": 7,
     "metadata": {},
     "output_type": "execute_result"
    }
   ],
   "source": [
    "#June 2000 to \n",
    "dates = pd.date_range(\"2000-06-01\", \"2021-05-31\", freq=\"D\")\n",
    "input_urls = [\n",
    "    input_url_pattern.format(\n",
    "        yyyy=day.strftime(\"%Y\"),\n",
    "        mm = day.strftime(\"%m\"),\n",
    "        dd = day.strftime(\"%d\"),\n",
    "        yyyymmdd=day.strftime(\"%Y%m%d\")\n",
    "    )\n",
    "    for day in dates\n",
    "]\n",
    "print(f\"Found {len(input_urls)} files!\")\n",
    "input_urls[-1000]\n"
   ]
  },
  {
   "cell_type": "code",
   "execution_count": null,
   "id": "43cb55e6-1400-4931-80d6-a506c61e0e5f",
   "metadata": {},
   "outputs": [],
   "source": []
  }
 ],
 "metadata": {
  "kernelspec": {
   "display_name": "Python 3 (ipykernel)",
   "language": "python",
   "name": "python3"
  },
  "language_info": {
   "codemirror_mode": {
    "name": "ipython",
    "version": 3
   },
   "file_extension": ".py",
   "mimetype": "text/x-python",
   "name": "python",
   "nbconvert_exporter": "python",
   "pygments_lexer": "ipython3",
   "version": "3.8.10"
  }
 },
 "nbformat": 4,
 "nbformat_minor": 5
}
