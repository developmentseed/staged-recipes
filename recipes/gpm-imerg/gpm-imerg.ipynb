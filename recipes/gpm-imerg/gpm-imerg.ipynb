{
 "cells": [
  {
   "cell_type": "code",
   "execution_count": 4,
   "id": "c1f1cec2-e3c4-453c-94bb-91b08f0a7f38",
   "metadata": {},
   "outputs": [],
   "source": [
    "from pangeo_forge_recipes.recipes import XarrayZarrRecipe\n",
    "from pangeo_forge_recipes.patterns import pattern_from_file_sequence\n",
    "import pandas as pd\n",
    "import aiohttp #Is auth still done this way?\n",
    "import os"
   ]
  },
  {
   "cell_type": "code",
   "execution_count": 37,
   "id": "e99d998a-c19e-4400-87f1-ad6e621f0dbf",
   "metadata": {},
   "outputs": [],
   "source": [
    "#move auth to correct place\n",
    "os.environ['GPM_IMERG_USERNAME'] = 'alex@developmentseed.org'\n",
    "os.environ['GPM_IMERG_PASSWORD'] = 'alex@developmentseed.org'"
   ]
  },
  {
   "cell_type": "code",
   "execution_count": 31,
   "id": "d98081de-034a-47f2-8eeb-724942ce8d29",
   "metadata": {},
   "outputs": [
    {
     "data": {
      "text/html": [
       "<div><svg style=\"position: absolute; width: 0; height: 0; overflow: hidden\">\n",
       "<defs>\n",
       "<symbol id=\"icon-database\" viewBox=\"0 0 32 32\">\n",
       "<path d=\"M16 0c-8.837 0-16 2.239-16 5v4c0 2.761 7.163 5 16 5s16-2.239 16-5v-4c0-2.761-7.163-5-16-5z\"></path>\n",
       "<path d=\"M16 17c-8.837 0-16-2.239-16-5v6c0 2.761 7.163 5 16 5s16-2.239 16-5v-6c0 2.761-7.163 5-16 5z\"></path>\n",
       "<path d=\"M16 26c-8.837 0-16-2.239-16-5v6c0 2.761 7.163 5 16 5s16-2.239 16-5v-6c0 2.761-7.163 5-16 5z\"></path>\n",
       "</symbol>\n",
       "<symbol id=\"icon-file-text2\" viewBox=\"0 0 32 32\">\n",
       "<path d=\"M28.681 7.159c-0.694-0.947-1.662-2.053-2.724-3.116s-2.169-2.030-3.116-2.724c-1.612-1.182-2.393-1.319-2.841-1.319h-15.5c-1.378 0-2.5 1.121-2.5 2.5v27c0 1.378 1.122 2.5 2.5 2.5h23c1.378 0 2.5-1.122 2.5-2.5v-19.5c0-0.448-0.137-1.23-1.319-2.841zM24.543 5.457c0.959 0.959 1.712 1.825 2.268 2.543h-4.811v-4.811c0.718 0.556 1.584 1.309 2.543 2.268zM28 29.5c0 0.271-0.229 0.5-0.5 0.5h-23c-0.271 0-0.5-0.229-0.5-0.5v-27c0-0.271 0.229-0.5 0.5-0.5 0 0 15.499-0 15.5 0v7c0 0.552 0.448 1 1 1h7v19.5z\"></path>\n",
       "<path d=\"M23 26h-14c-0.552 0-1-0.448-1-1s0.448-1 1-1h14c0.552 0 1 0.448 1 1s-0.448 1-1 1z\"></path>\n",
       "<path d=\"M23 22h-14c-0.552 0-1-0.448-1-1s0.448-1 1-1h14c0.552 0 1 0.448 1 1s-0.448 1-1 1z\"></path>\n",
       "<path d=\"M23 18h-14c-0.552 0-1-0.448-1-1s0.448-1 1-1h14c0.552 0 1 0.448 1 1s-0.448 1-1 1z\"></path>\n",
       "</symbol>\n",
       "</defs>\n",
       "</svg>\n",
       "<style>/* CSS stylesheet for displaying xarray objects in jupyterlab.\n",
       " *\n",
       " */\n",
       "\n",
       ":root {\n",
       "  --xr-font-color0: var(--jp-content-font-color0, rgba(0, 0, 0, 1));\n",
       "  --xr-font-color2: var(--jp-content-font-color2, rgba(0, 0, 0, 0.54));\n",
       "  --xr-font-color3: var(--jp-content-font-color3, rgba(0, 0, 0, 0.38));\n",
       "  --xr-border-color: var(--jp-border-color2, #e0e0e0);\n",
       "  --xr-disabled-color: var(--jp-layout-color3, #bdbdbd);\n",
       "  --xr-background-color: var(--jp-layout-color0, white);\n",
       "  --xr-background-color-row-even: var(--jp-layout-color1, white);\n",
       "  --xr-background-color-row-odd: var(--jp-layout-color2, #eeeeee);\n",
       "}\n",
       "\n",
       "html[theme=dark],\n",
       "body.vscode-dark {\n",
       "  --xr-font-color0: rgba(255, 255, 255, 1);\n",
       "  --xr-font-color2: rgba(255, 255, 255, 0.54);\n",
       "  --xr-font-color3: rgba(255, 255, 255, 0.38);\n",
       "  --xr-border-color: #1F1F1F;\n",
       "  --xr-disabled-color: #515151;\n",
       "  --xr-background-color: #111111;\n",
       "  --xr-background-color-row-even: #111111;\n",
       "  --xr-background-color-row-odd: #313131;\n",
       "}\n",
       "\n",
       ".xr-wrap {\n",
       "  display: block;\n",
       "  min-width: 300px;\n",
       "  max-width: 700px;\n",
       "}\n",
       "\n",
       ".xr-text-repr-fallback {\n",
       "  /* fallback to plain text repr when CSS is not injected (untrusted notebook) */\n",
       "  display: none;\n",
       "}\n",
       "\n",
       ".xr-header {\n",
       "  padding-top: 6px;\n",
       "  padding-bottom: 6px;\n",
       "  margin-bottom: 4px;\n",
       "  border-bottom: solid 1px var(--xr-border-color);\n",
       "}\n",
       "\n",
       ".xr-header > div,\n",
       ".xr-header > ul {\n",
       "  display: inline;\n",
       "  margin-top: 0;\n",
       "  margin-bottom: 0;\n",
       "}\n",
       "\n",
       ".xr-obj-type,\n",
       ".xr-array-name {\n",
       "  margin-left: 2px;\n",
       "  margin-right: 10px;\n",
       "}\n",
       "\n",
       ".xr-obj-type {\n",
       "  color: var(--xr-font-color2);\n",
       "}\n",
       "\n",
       ".xr-sections {\n",
       "  padding-left: 0 !important;\n",
       "  display: grid;\n",
       "  grid-template-columns: 150px auto auto 1fr 20px 20px;\n",
       "}\n",
       "\n",
       ".xr-section-item {\n",
       "  display: contents;\n",
       "}\n",
       "\n",
       ".xr-section-item input {\n",
       "  display: none;\n",
       "}\n",
       "\n",
       ".xr-section-item input + label {\n",
       "  color: var(--xr-disabled-color);\n",
       "}\n",
       "\n",
       ".xr-section-item input:enabled + label {\n",
       "  cursor: pointer;\n",
       "  color: var(--xr-font-color2);\n",
       "}\n",
       "\n",
       ".xr-section-item input:enabled + label:hover {\n",
       "  color: var(--xr-font-color0);\n",
       "}\n",
       "\n",
       ".xr-section-summary {\n",
       "  grid-column: 1;\n",
       "  color: var(--xr-font-color2);\n",
       "  font-weight: 500;\n",
       "}\n",
       "\n",
       ".xr-section-summary > span {\n",
       "  display: inline-block;\n",
       "  padding-left: 0.5em;\n",
       "}\n",
       "\n",
       ".xr-section-summary-in:disabled + label {\n",
       "  color: var(--xr-font-color2);\n",
       "}\n",
       "\n",
       ".xr-section-summary-in + label:before {\n",
       "  display: inline-block;\n",
       "  content: '►';\n",
       "  font-size: 11px;\n",
       "  width: 15px;\n",
       "  text-align: center;\n",
       "}\n",
       "\n",
       ".xr-section-summary-in:disabled + label:before {\n",
       "  color: var(--xr-disabled-color);\n",
       "}\n",
       "\n",
       ".xr-section-summary-in:checked + label:before {\n",
       "  content: '▼';\n",
       "}\n",
       "\n",
       ".xr-section-summary-in:checked + label > span {\n",
       "  display: none;\n",
       "}\n",
       "\n",
       ".xr-section-summary,\n",
       ".xr-section-inline-details {\n",
       "  padding-top: 4px;\n",
       "  padding-bottom: 4px;\n",
       "}\n",
       "\n",
       ".xr-section-inline-details {\n",
       "  grid-column: 2 / -1;\n",
       "}\n",
       "\n",
       ".xr-section-details {\n",
       "  display: none;\n",
       "  grid-column: 1 / -1;\n",
       "  margin-bottom: 5px;\n",
       "}\n",
       "\n",
       ".xr-section-summary-in:checked ~ .xr-section-details {\n",
       "  display: contents;\n",
       "}\n",
       "\n",
       ".xr-array-wrap {\n",
       "  grid-column: 1 / -1;\n",
       "  display: grid;\n",
       "  grid-template-columns: 20px auto;\n",
       "}\n",
       "\n",
       ".xr-array-wrap > label {\n",
       "  grid-column: 1;\n",
       "  vertical-align: top;\n",
       "}\n",
       "\n",
       ".xr-preview {\n",
       "  color: var(--xr-font-color3);\n",
       "}\n",
       "\n",
       ".xr-array-preview,\n",
       ".xr-array-data {\n",
       "  padding: 0 5px !important;\n",
       "  grid-column: 2;\n",
       "}\n",
       "\n",
       ".xr-array-data,\n",
       ".xr-array-in:checked ~ .xr-array-preview {\n",
       "  display: none;\n",
       "}\n",
       "\n",
       ".xr-array-in:checked ~ .xr-array-data,\n",
       ".xr-array-preview {\n",
       "  display: inline-block;\n",
       "}\n",
       "\n",
       ".xr-dim-list {\n",
       "  display: inline-block !important;\n",
       "  list-style: none;\n",
       "  padding: 0 !important;\n",
       "  margin: 0;\n",
       "}\n",
       "\n",
       ".xr-dim-list li {\n",
       "  display: inline-block;\n",
       "  padding: 0;\n",
       "  margin: 0;\n",
       "}\n",
       "\n",
       ".xr-dim-list:before {\n",
       "  content: '(';\n",
       "}\n",
       "\n",
       ".xr-dim-list:after {\n",
       "  content: ')';\n",
       "}\n",
       "\n",
       ".xr-dim-list li:not(:last-child):after {\n",
       "  content: ',';\n",
       "  padding-right: 5px;\n",
       "}\n",
       "\n",
       ".xr-has-index {\n",
       "  font-weight: bold;\n",
       "}\n",
       "\n",
       ".xr-var-list,\n",
       ".xr-var-item {\n",
       "  display: contents;\n",
       "}\n",
       "\n",
       ".xr-var-item > div,\n",
       ".xr-var-item label,\n",
       ".xr-var-item > .xr-var-name span {\n",
       "  background-color: var(--xr-background-color-row-even);\n",
       "  margin-bottom: 0;\n",
       "}\n",
       "\n",
       ".xr-var-item > .xr-var-name:hover span {\n",
       "  padding-right: 5px;\n",
       "}\n",
       "\n",
       ".xr-var-list > li:nth-child(odd) > div,\n",
       ".xr-var-list > li:nth-child(odd) > label,\n",
       ".xr-var-list > li:nth-child(odd) > .xr-var-name span {\n",
       "  background-color: var(--xr-background-color-row-odd);\n",
       "}\n",
       "\n",
       ".xr-var-name {\n",
       "  grid-column: 1;\n",
       "}\n",
       "\n",
       ".xr-var-dims {\n",
       "  grid-column: 2;\n",
       "}\n",
       "\n",
       ".xr-var-dtype {\n",
       "  grid-column: 3;\n",
       "  text-align: right;\n",
       "  color: var(--xr-font-color2);\n",
       "}\n",
       "\n",
       ".xr-var-preview {\n",
       "  grid-column: 4;\n",
       "}\n",
       "\n",
       ".xr-var-name,\n",
       ".xr-var-dims,\n",
       ".xr-var-dtype,\n",
       ".xr-preview,\n",
       ".xr-attrs dt {\n",
       "  white-space: nowrap;\n",
       "  overflow: hidden;\n",
       "  text-overflow: ellipsis;\n",
       "  padding-right: 10px;\n",
       "}\n",
       "\n",
       ".xr-var-name:hover,\n",
       ".xr-var-dims:hover,\n",
       ".xr-var-dtype:hover,\n",
       ".xr-attrs dt:hover {\n",
       "  overflow: visible;\n",
       "  width: auto;\n",
       "  z-index: 1;\n",
       "}\n",
       "\n",
       ".xr-var-attrs,\n",
       ".xr-var-data {\n",
       "  display: none;\n",
       "  background-color: var(--xr-background-color) !important;\n",
       "  padding-bottom: 5px !important;\n",
       "}\n",
       "\n",
       ".xr-var-attrs-in:checked ~ .xr-var-attrs,\n",
       ".xr-var-data-in:checked ~ .xr-var-data {\n",
       "  display: block;\n",
       "}\n",
       "\n",
       ".xr-var-data > table {\n",
       "  float: right;\n",
       "}\n",
       "\n",
       ".xr-var-name span,\n",
       ".xr-var-data,\n",
       ".xr-attrs {\n",
       "  padding-left: 25px !important;\n",
       "}\n",
       "\n",
       ".xr-attrs,\n",
       ".xr-var-attrs,\n",
       ".xr-var-data {\n",
       "  grid-column: 1 / -1;\n",
       "}\n",
       "\n",
       "dl.xr-attrs {\n",
       "  padding: 0;\n",
       "  margin: 0;\n",
       "  display: grid;\n",
       "  grid-template-columns: 125px auto;\n",
       "}\n",
       "\n",
       ".xr-attrs dt,\n",
       ".xr-attrs dd {\n",
       "  padding: 0;\n",
       "  margin: 0;\n",
       "  float: left;\n",
       "  padding-right: 10px;\n",
       "  width: auto;\n",
       "}\n",
       "\n",
       ".xr-attrs dt {\n",
       "  font-weight: normal;\n",
       "  grid-column: 1;\n",
       "}\n",
       "\n",
       ".xr-attrs dt:hover span {\n",
       "  display: inline-block;\n",
       "  background: var(--xr-background-color);\n",
       "  padding-right: 10px;\n",
       "}\n",
       "\n",
       ".xr-attrs dd {\n",
       "  grid-column: 2;\n",
       "  white-space: pre-wrap;\n",
       "  word-break: break-all;\n",
       "}\n",
       "\n",
       ".xr-icon-database,\n",
       ".xr-icon-file-text2 {\n",
       "  display: inline-block;\n",
       "  vertical-align: middle;\n",
       "  width: 1em;\n",
       "  height: 1.5em !important;\n",
       "  stroke-width: 0;\n",
       "  stroke: currentColor;\n",
       "  fill: currentColor;\n",
       "}\n",
       "</style><pre class='xr-text-repr-fallback'>&lt;xarray.Dataset&gt;\n",
       "Dimensions:                         (lat: 1800, latv: 2, lon: 3600, lonv: 2, nv: 2, time: 1)\n",
       "Coordinates:\n",
       "  * time                            (time) object 2021-03-03 04:00:00\n",
       "  * lon                             (lon) float32 -179.9 -179.9 ... 179.9 179.9\n",
       "  * lat                             (lat) float32 -89.95 -89.85 ... 89.85 89.95\n",
       "Dimensions without coordinates: latv, lonv, nv\n",
       "Data variables: (12/13)\n",
       "    time_bnds                       (time, nv) object 2021-03-03 04:00:00 202...\n",
       "    lon_bnds                        (lon, lonv) float32 -180.0 -179.9 ... 180.0\n",
       "    lat_bnds                        (lat, latv) float32 -90.0 -89.9 ... 90.0\n",
       "    precipitationCal                (time, lon, lat) float32 ...\n",
       "    precipitationUncal              (time, lon, lat) float32 ...\n",
       "    randomError                     (time, lon, lat) float32 ...\n",
       "    ...                              ...\n",
       "    HQprecipSource                  (time, lon, lat) float32 ...\n",
       "    HQobservationTime               (time, lon, lat) timedelta64[ns] ...\n",
       "    IRprecipitation                 (time, lon, lat) float32 ...\n",
       "    IRkalmanFilterWeight            (time, lon, lat) float32 ...\n",
       "    probabilityLiquidPrecipitation  (time, lon, lat) float32 ...\n",
       "    precipitationQualityIndex       (time, lon, lat) float32 ...\n",
       "Attributes:\n",
       "    GridHeader:  BinMethod=ARITHMETIC_MEAN;\\nRegistration=CENTER;\\nLatitudeRe...</pre><div class='xr-wrap' hidden><div class='xr-header'><div class='xr-obj-type'>xarray.Dataset</div></div><ul class='xr-sections'><li class='xr-section-item'><input id='section-2ab7e5ab-8a6c-408b-ae2e-18e5846f765e' class='xr-section-summary-in' type='checkbox' disabled ><label for='section-2ab7e5ab-8a6c-408b-ae2e-18e5846f765e' class='xr-section-summary'  title='Expand/collapse section'>Dimensions:</label><div class='xr-section-inline-details'><ul class='xr-dim-list'><li><span class='xr-has-index'>lat</span>: 1800</li><li><span>latv</span>: 2</li><li><span class='xr-has-index'>lon</span>: 3600</li><li><span>lonv</span>: 2</li><li><span>nv</span>: 2</li><li><span class='xr-has-index'>time</span>: 1</li></ul></div><div class='xr-section-details'></div></li><li class='xr-section-item'><input id='section-3cc5a77d-7414-45ed-959c-52d45df2a41f' class='xr-section-summary-in' type='checkbox'  checked><label for='section-3cc5a77d-7414-45ed-959c-52d45df2a41f' class='xr-section-summary' >Coordinates: <span>(3)</span></label><div class='xr-section-inline-details'></div><div class='xr-section-details'><ul class='xr-var-list'><li class='xr-var-item'><div class='xr-var-name'><span class='xr-has-index'>time</span></div><div class='xr-var-dims'>(time)</div><div class='xr-var-dtype'>object</div><div class='xr-var-preview xr-preview'>2021-03-03 04:00:00</div><input id='attrs-d7600f30-277d-4d66-b402-c80789cdbb53' class='xr-var-attrs-in' type='checkbox' ><label for='attrs-d7600f30-277d-4d66-b402-c80789cdbb53' title='Show/Hide attributes'><svg class='icon xr-icon-file-text2'><use xlink:href='#icon-file-text2'></use></svg></label><input id='data-45fddbb8-3455-4a70-8f7d-a18c20c3b43c' class='xr-var-data-in' type='checkbox'><label for='data-45fddbb8-3455-4a70-8f7d-a18c20c3b43c' title='Show/Hide data repr'><svg class='icon xr-icon-database'><use xlink:href='#icon-database'></use></svg></label><div class='xr-var-attrs'><dl class='xr-attrs'><dt><span>DimensionNames :</span></dt><dd>time</dd><dt><span>Units :</span></dt><dd>seconds since 1970-01-01 00:00:00 UTC</dd><dt><span>standard_name :</span></dt><dd>time</dd><dt><span>LongName :</span></dt><dd>Representative time of data in \n",
       "\t\t\tseconds since 1970-01-01 00:00:00 UTC.</dd><dt><span>bounds :</span></dt><dd>time_bnds</dd><dt><span>axis :</span></dt><dd>T</dd></dl></div><div class='xr-var-data'><pre>array([cftime.DatetimeJulian(2021, 3, 3, 4, 0, 0, 0, has_year_zero=False)],\n",
       "      dtype=object)</pre></div></li><li class='xr-var-item'><div class='xr-var-name'><span class='xr-has-index'>lon</span></div><div class='xr-var-dims'>(lon)</div><div class='xr-var-dtype'>float32</div><div class='xr-var-preview xr-preview'>-179.9 -179.9 ... 179.9 179.9</div><input id='attrs-2cd2d480-46b7-45a6-ac61-c86b253fe0e2' class='xr-var-attrs-in' type='checkbox' ><label for='attrs-2cd2d480-46b7-45a6-ac61-c86b253fe0e2' title='Show/Hide attributes'><svg class='icon xr-icon-file-text2'><use xlink:href='#icon-file-text2'></use></svg></label><input id='data-13397d18-ec17-44b0-a2e7-b2db473c9f0e' class='xr-var-data-in' type='checkbox'><label for='data-13397d18-ec17-44b0-a2e7-b2db473c9f0e' title='Show/Hide data repr'><svg class='icon xr-icon-database'><use xlink:href='#icon-database'></use></svg></label><div class='xr-var-attrs'><dl class='xr-attrs'><dt><span>DimensionNames :</span></dt><dd>lon</dd><dt><span>Units :</span></dt><dd>degrees_east</dd><dt><span>units :</span></dt><dd>degrees_east</dd><dt><span>standard_name :</span></dt><dd>longitude</dd><dt><span>LongName :</span></dt><dd>Longitude at the center of\n",
       "\t\t\t0.10 degree grid intervals of longitude \n",
       "\t\t\tfrom -180 to 180.</dd><dt><span>bounds :</span></dt><dd>lon_bnds</dd><dt><span>axis :</span></dt><dd>X</dd></dl></div><div class='xr-var-data'><pre>array([-179.95, -179.85, -179.75, ...,  179.75,  179.85,  179.95],\n",
       "      dtype=float32)</pre></div></li><li class='xr-var-item'><div class='xr-var-name'><span class='xr-has-index'>lat</span></div><div class='xr-var-dims'>(lat)</div><div class='xr-var-dtype'>float32</div><div class='xr-var-preview xr-preview'>-89.95 -89.85 ... 89.85 89.95</div><input id='attrs-c377caef-1e15-4b91-9d8c-80723b53a333' class='xr-var-attrs-in' type='checkbox' ><label for='attrs-c377caef-1e15-4b91-9d8c-80723b53a333' title='Show/Hide attributes'><svg class='icon xr-icon-file-text2'><use xlink:href='#icon-file-text2'></use></svg></label><input id='data-6aad4b0d-08ce-49d8-80d4-4c38297f8e17' class='xr-var-data-in' type='checkbox'><label for='data-6aad4b0d-08ce-49d8-80d4-4c38297f8e17' title='Show/Hide data repr'><svg class='icon xr-icon-database'><use xlink:href='#icon-database'></use></svg></label><div class='xr-var-attrs'><dl class='xr-attrs'><dt><span>DimensionNames :</span></dt><dd>lat</dd><dt><span>Units :</span></dt><dd>degrees_north</dd><dt><span>units :</span></dt><dd>degrees_north</dd><dt><span>standard_name :</span></dt><dd>latitude</dd><dt><span>LongName :</span></dt><dd>Latitude at the center of\n",
       "\t\t\t0.10 degree grid intervals of latitude\n",
       "\t\t\tfrom -90 to 90.</dd><dt><span>bounds :</span></dt><dd>lat_bnds</dd><dt><span>axis :</span></dt><dd>Y</dd></dl></div><div class='xr-var-data'><pre>array([-89.95, -89.85, -89.75, ...,  89.75,  89.85,  89.95], dtype=float32)</pre></div></li></ul></div></li><li class='xr-section-item'><input id='section-25eefd44-3dd8-440c-9599-91fa0aff2d32' class='xr-section-summary-in' type='checkbox'  checked><label for='section-25eefd44-3dd8-440c-9599-91fa0aff2d32' class='xr-section-summary' >Data variables: <span>(13)</span></label><div class='xr-section-inline-details'></div><div class='xr-section-details'><ul class='xr-var-list'><li class='xr-var-item'><div class='xr-var-name'><span>time_bnds</span></div><div class='xr-var-dims'>(time, nv)</div><div class='xr-var-dtype'>object</div><div class='xr-var-preview xr-preview'>...</div><input id='attrs-c0dd6283-b136-4fc2-b709-79277478c6b6' class='xr-var-attrs-in' type='checkbox' ><label for='attrs-c0dd6283-b136-4fc2-b709-79277478c6b6' title='Show/Hide attributes'><svg class='icon xr-icon-file-text2'><use xlink:href='#icon-file-text2'></use></svg></label><input id='data-c33e0bbc-7001-4317-b208-50302cd90522' class='xr-var-data-in' type='checkbox'><label for='data-c33e0bbc-7001-4317-b208-50302cd90522' title='Show/Hide data repr'><svg class='icon xr-icon-database'><use xlink:href='#icon-database'></use></svg></label><div class='xr-var-attrs'><dl class='xr-attrs'><dt><span>DimensionNames :</span></dt><dd>time,nv</dd><dt><span>Units :</span></dt><dd>seconds since 1970-01-01 00:00:00 UTC</dd><dt><span>coordinates :</span></dt><dd>time nv</dd></dl></div><div class='xr-var-data'><pre>array([[cftime.DatetimeJulian(2021, 3, 3, 4, 0, 0, 0, has_year_zero=False),\n",
       "        cftime.DatetimeJulian(2021, 3, 3, 4, 30, 0, 0, has_year_zero=False)]],\n",
       "      dtype=object)</pre></div></li><li class='xr-var-item'><div class='xr-var-name'><span>lon_bnds</span></div><div class='xr-var-dims'>(lon, lonv)</div><div class='xr-var-dtype'>float32</div><div class='xr-var-preview xr-preview'>...</div><input id='attrs-7c62901d-90f1-4512-97f3-2029f2e4f118' class='xr-var-attrs-in' type='checkbox' ><label for='attrs-7c62901d-90f1-4512-97f3-2029f2e4f118' title='Show/Hide attributes'><svg class='icon xr-icon-file-text2'><use xlink:href='#icon-file-text2'></use></svg></label><input id='data-770d0a57-cf40-468c-9e45-54f2d297e0b3' class='xr-var-data-in' type='checkbox'><label for='data-770d0a57-cf40-468c-9e45-54f2d297e0b3' title='Show/Hide data repr'><svg class='icon xr-icon-database'><use xlink:href='#icon-database'></use></svg></label><div class='xr-var-attrs'><dl class='xr-attrs'><dt><span>DimensionNames :</span></dt><dd>lon,lonv</dd><dt><span>Units :</span></dt><dd>degrees_east</dd><dt><span>units :</span></dt><dd>degrees_east</dd><dt><span>coordinates :</span></dt><dd>lon lonv</dd></dl></div><div class='xr-var-data'><pre>array([[-180.     , -179.9    ],\n",
       "       [-179.90001, -179.8    ],\n",
       "       [-179.8    , -179.7    ],\n",
       "       ...,\n",
       "       [ 179.7    ,  179.8    ],\n",
       "       [ 179.8    ,  179.90001],\n",
       "       [ 179.9    ,  180.     ]], dtype=float32)</pre></div></li><li class='xr-var-item'><div class='xr-var-name'><span>lat_bnds</span></div><div class='xr-var-dims'>(lat, latv)</div><div class='xr-var-dtype'>float32</div><div class='xr-var-preview xr-preview'>...</div><input id='attrs-19bb8505-060a-424b-bf4f-ae891b38fd50' class='xr-var-attrs-in' type='checkbox' ><label for='attrs-19bb8505-060a-424b-bf4f-ae891b38fd50' title='Show/Hide attributes'><svg class='icon xr-icon-file-text2'><use xlink:href='#icon-file-text2'></use></svg></label><input id='data-967b7f69-712a-445d-8354-846e85fafee8' class='xr-var-data-in' type='checkbox'><label for='data-967b7f69-712a-445d-8354-846e85fafee8' title='Show/Hide data repr'><svg class='icon xr-icon-database'><use xlink:href='#icon-database'></use></svg></label><div class='xr-var-attrs'><dl class='xr-attrs'><dt><span>DimensionNames :</span></dt><dd>lat,latv</dd><dt><span>Units :</span></dt><dd>degrees_north</dd><dt><span>units :</span></dt><dd>degrees_north</dd><dt><span>coordinates :</span></dt><dd>lat latv</dd></dl></div><div class='xr-var-data'><pre>array([[-90.      , -89.899994],\n",
       "       [-89.9     , -89.799995],\n",
       "       [-89.8     , -89.7     ],\n",
       "       ...,\n",
       "       [ 89.7     ,  89.8     ],\n",
       "       [ 89.799995,  89.9     ],\n",
       "       [ 89.899994,  90.      ]], dtype=float32)</pre></div></li><li class='xr-var-item'><div class='xr-var-name'><span>precipitationCal</span></div><div class='xr-var-dims'>(time, lon, lat)</div><div class='xr-var-dtype'>float32</div><div class='xr-var-preview xr-preview'>...</div><input id='attrs-810de85a-d8c1-4f2a-b56b-55c333fc8bfb' class='xr-var-attrs-in' type='checkbox' ><label for='attrs-810de85a-d8c1-4f2a-b56b-55c333fc8bfb' title='Show/Hide attributes'><svg class='icon xr-icon-file-text2'><use xlink:href='#icon-file-text2'></use></svg></label><input id='data-197823fc-6831-447f-b0d8-fa3eb5151f31' class='xr-var-data-in' type='checkbox'><label for='data-197823fc-6831-447f-b0d8-fa3eb5151f31' title='Show/Hide data repr'><svg class='icon xr-icon-database'><use xlink:href='#icon-database'></use></svg></label><div class='xr-var-attrs'><dl class='xr-attrs'><dt><span>DimensionNames :</span></dt><dd>time,lon,lat</dd><dt><span>Units :</span></dt><dd>mm/hr</dd><dt><span>units :</span></dt><dd>mm/hr</dd><dt><span>CodeMissingValue :</span></dt><dd>-9999.9</dd></dl></div><div class='xr-var-data'><pre>[6480000 values with dtype=float32]</pre></div></li><li class='xr-var-item'><div class='xr-var-name'><span>precipitationUncal</span></div><div class='xr-var-dims'>(time, lon, lat)</div><div class='xr-var-dtype'>float32</div><div class='xr-var-preview xr-preview'>...</div><input id='attrs-d03d665c-1b76-454e-a716-67494b43afd9' class='xr-var-attrs-in' type='checkbox' ><label for='attrs-d03d665c-1b76-454e-a716-67494b43afd9' title='Show/Hide attributes'><svg class='icon xr-icon-file-text2'><use xlink:href='#icon-file-text2'></use></svg></label><input id='data-550bb188-7f57-42cb-b669-ce5e07394331' class='xr-var-data-in' type='checkbox'><label for='data-550bb188-7f57-42cb-b669-ce5e07394331' title='Show/Hide data repr'><svg class='icon xr-icon-database'><use xlink:href='#icon-database'></use></svg></label><div class='xr-var-attrs'><dl class='xr-attrs'><dt><span>DimensionNames :</span></dt><dd>time,lon,lat</dd><dt><span>Units :</span></dt><dd>mm/hr</dd><dt><span>units :</span></dt><dd>mm/hr</dd><dt><span>CodeMissingValue :</span></dt><dd>-9999.9</dd></dl></div><div class='xr-var-data'><pre>[6480000 values with dtype=float32]</pre></div></li><li class='xr-var-item'><div class='xr-var-name'><span>randomError</span></div><div class='xr-var-dims'>(time, lon, lat)</div><div class='xr-var-dtype'>float32</div><div class='xr-var-preview xr-preview'>...</div><input id='attrs-00f643d5-3b66-4847-a075-982c0d74dec2' class='xr-var-attrs-in' type='checkbox' ><label for='attrs-00f643d5-3b66-4847-a075-982c0d74dec2' title='Show/Hide attributes'><svg class='icon xr-icon-file-text2'><use xlink:href='#icon-file-text2'></use></svg></label><input id='data-f6e7aad8-9eef-4b3e-ad12-fae76a32b1c0' class='xr-var-data-in' type='checkbox'><label for='data-f6e7aad8-9eef-4b3e-ad12-fae76a32b1c0' title='Show/Hide data repr'><svg class='icon xr-icon-database'><use xlink:href='#icon-database'></use></svg></label><div class='xr-var-attrs'><dl class='xr-attrs'><dt><span>DimensionNames :</span></dt><dd>time,lon,lat</dd><dt><span>Units :</span></dt><dd>mm/hr</dd><dt><span>units :</span></dt><dd>mm/hr</dd><dt><span>CodeMissingValue :</span></dt><dd>-9999.9</dd></dl></div><div class='xr-var-data'><pre>[6480000 values with dtype=float32]</pre></div></li><li class='xr-var-item'><div class='xr-var-name'><span>HQprecipitation</span></div><div class='xr-var-dims'>(time, lon, lat)</div><div class='xr-var-dtype'>float32</div><div class='xr-var-preview xr-preview'>...</div><input id='attrs-590f130a-9bce-47de-bfc1-8b82170e4386' class='xr-var-attrs-in' type='checkbox' ><label for='attrs-590f130a-9bce-47de-bfc1-8b82170e4386' title='Show/Hide attributes'><svg class='icon xr-icon-file-text2'><use xlink:href='#icon-file-text2'></use></svg></label><input id='data-0dfc95c6-bea1-4524-a8d2-c9f4ff1ed7d3' class='xr-var-data-in' type='checkbox'><label for='data-0dfc95c6-bea1-4524-a8d2-c9f4ff1ed7d3' title='Show/Hide data repr'><svg class='icon xr-icon-database'><use xlink:href='#icon-database'></use></svg></label><div class='xr-var-attrs'><dl class='xr-attrs'><dt><span>DimensionNames :</span></dt><dd>time,lon,lat</dd><dt><span>Units :</span></dt><dd>mm/hr</dd><dt><span>units :</span></dt><dd>mm/hr</dd><dt><span>CodeMissingValue :</span></dt><dd>-9999.9</dd></dl></div><div class='xr-var-data'><pre>[6480000 values with dtype=float32]</pre></div></li><li class='xr-var-item'><div class='xr-var-name'><span>HQprecipSource</span></div><div class='xr-var-dims'>(time, lon, lat)</div><div class='xr-var-dtype'>float32</div><div class='xr-var-preview xr-preview'>...</div><input id='attrs-51460172-69aa-4c6d-8319-bee9c5f09905' class='xr-var-attrs-in' type='checkbox' ><label for='attrs-51460172-69aa-4c6d-8319-bee9c5f09905' title='Show/Hide attributes'><svg class='icon xr-icon-file-text2'><use xlink:href='#icon-file-text2'></use></svg></label><input id='data-d22e2e7b-2ace-4fcc-af70-1aa2055358a7' class='xr-var-data-in' type='checkbox'><label for='data-d22e2e7b-2ace-4fcc-af70-1aa2055358a7' title='Show/Hide data repr'><svg class='icon xr-icon-database'><use xlink:href='#icon-database'></use></svg></label><div class='xr-var-attrs'><dl class='xr-attrs'><dt><span>DimensionNames :</span></dt><dd>time,lon,lat</dd><dt><span>CodeMissingValue :</span></dt><dd>-9999</dd></dl></div><div class='xr-var-data'><pre>[6480000 values with dtype=float32]</pre></div></li><li class='xr-var-item'><div class='xr-var-name'><span>HQobservationTime</span></div><div class='xr-var-dims'>(time, lon, lat)</div><div class='xr-var-dtype'>timedelta64[ns]</div><div class='xr-var-preview xr-preview'>...</div><input id='attrs-02fc206a-3107-4ba6-9ec1-b91ced5b3bfe' class='xr-var-attrs-in' type='checkbox' ><label for='attrs-02fc206a-3107-4ba6-9ec1-b91ced5b3bfe' title='Show/Hide attributes'><svg class='icon xr-icon-file-text2'><use xlink:href='#icon-file-text2'></use></svg></label><input id='data-a46f0a45-f64c-4da6-b62e-4a1f1194817f' class='xr-var-data-in' type='checkbox'><label for='data-a46f0a45-f64c-4da6-b62e-4a1f1194817f' title='Show/Hide data repr'><svg class='icon xr-icon-database'><use xlink:href='#icon-database'></use></svg></label><div class='xr-var-attrs'><dl class='xr-attrs'><dt><span>DimensionNames :</span></dt><dd>time,lon,lat</dd><dt><span>Units :</span></dt><dd>minutes</dd><dt><span>CodeMissingValue :</span></dt><dd>-9999</dd></dl></div><div class='xr-var-data'><pre>[6480000 values with dtype=timedelta64[ns]]</pre></div></li><li class='xr-var-item'><div class='xr-var-name'><span>IRprecipitation</span></div><div class='xr-var-dims'>(time, lon, lat)</div><div class='xr-var-dtype'>float32</div><div class='xr-var-preview xr-preview'>...</div><input id='attrs-6482be40-b32e-4f90-af51-d0abf2d0d2b1' class='xr-var-attrs-in' type='checkbox' ><label for='attrs-6482be40-b32e-4f90-af51-d0abf2d0d2b1' title='Show/Hide attributes'><svg class='icon xr-icon-file-text2'><use xlink:href='#icon-file-text2'></use></svg></label><input id='data-61a5d6ae-3ce6-4173-8c43-dd86bd8ae913' class='xr-var-data-in' type='checkbox'><label for='data-61a5d6ae-3ce6-4173-8c43-dd86bd8ae913' title='Show/Hide data repr'><svg class='icon xr-icon-database'><use xlink:href='#icon-database'></use></svg></label><div class='xr-var-attrs'><dl class='xr-attrs'><dt><span>DimensionNames :</span></dt><dd>time,lon,lat</dd><dt><span>Units :</span></dt><dd>mm/hr</dd><dt><span>units :</span></dt><dd>mm/hr</dd><dt><span>CodeMissingValue :</span></dt><dd>-9999.9</dd></dl></div><div class='xr-var-data'><pre>[6480000 values with dtype=float32]</pre></div></li><li class='xr-var-item'><div class='xr-var-name'><span>IRkalmanFilterWeight</span></div><div class='xr-var-dims'>(time, lon, lat)</div><div class='xr-var-dtype'>float32</div><div class='xr-var-preview xr-preview'>...</div><input id='attrs-b4d49fca-9535-4d1a-8a02-a09240847a9e' class='xr-var-attrs-in' type='checkbox' ><label for='attrs-b4d49fca-9535-4d1a-8a02-a09240847a9e' title='Show/Hide attributes'><svg class='icon xr-icon-file-text2'><use xlink:href='#icon-file-text2'></use></svg></label><input id='data-1aa6fb8b-164f-417c-854d-7fb11b6f608c' class='xr-var-data-in' type='checkbox'><label for='data-1aa6fb8b-164f-417c-854d-7fb11b6f608c' title='Show/Hide data repr'><svg class='icon xr-icon-database'><use xlink:href='#icon-database'></use></svg></label><div class='xr-var-attrs'><dl class='xr-attrs'><dt><span>DimensionNames :</span></dt><dd>time,lon,lat</dd><dt><span>CodeMissingValue :</span></dt><dd>-9999</dd></dl></div><div class='xr-var-data'><pre>[6480000 values with dtype=float32]</pre></div></li><li class='xr-var-item'><div class='xr-var-name'><span>probabilityLiquidPrecipitation</span></div><div class='xr-var-dims'>(time, lon, lat)</div><div class='xr-var-dtype'>float32</div><div class='xr-var-preview xr-preview'>...</div><input id='attrs-7db5d105-0139-4dd9-a0bf-ac886d307375' class='xr-var-attrs-in' type='checkbox' ><label for='attrs-7db5d105-0139-4dd9-a0bf-ac886d307375' title='Show/Hide attributes'><svg class='icon xr-icon-file-text2'><use xlink:href='#icon-file-text2'></use></svg></label><input id='data-feaa9e01-f175-4737-aab6-651f403a946a' class='xr-var-data-in' type='checkbox'><label for='data-feaa9e01-f175-4737-aab6-651f403a946a' title='Show/Hide data repr'><svg class='icon xr-icon-database'><use xlink:href='#icon-database'></use></svg></label><div class='xr-var-attrs'><dl class='xr-attrs'><dt><span>DimensionNames :</span></dt><dd>time,lon,lat</dd><dt><span>Units :</span></dt><dd>percent</dd><dt><span>units :</span></dt><dd>percent</dd><dt><span>CodeMissingValue :</span></dt><dd>-9999</dd></dl></div><div class='xr-var-data'><pre>[6480000 values with dtype=float32]</pre></div></li><li class='xr-var-item'><div class='xr-var-name'><span>precipitationQualityIndex</span></div><div class='xr-var-dims'>(time, lon, lat)</div><div class='xr-var-dtype'>float32</div><div class='xr-var-preview xr-preview'>...</div><input id='attrs-e32b4c90-8edd-4233-96f2-24cd0876ae91' class='xr-var-attrs-in' type='checkbox' ><label for='attrs-e32b4c90-8edd-4233-96f2-24cd0876ae91' title='Show/Hide attributes'><svg class='icon xr-icon-file-text2'><use xlink:href='#icon-file-text2'></use></svg></label><input id='data-e248b2f7-8719-4e8f-b192-ea65badc7988' class='xr-var-data-in' type='checkbox'><label for='data-e248b2f7-8719-4e8f-b192-ea65badc7988' title='Show/Hide data repr'><svg class='icon xr-icon-database'><use xlink:href='#icon-database'></use></svg></label><div class='xr-var-attrs'><dl class='xr-attrs'><dt><span>DimensionNames :</span></dt><dd>time,lon,lat</dd><dt><span>CodeMissingValue :</span></dt><dd>-9999.9</dd></dl></div><div class='xr-var-data'><pre>[6480000 values with dtype=float32]</pre></div></li></ul></div></li><li class='xr-section-item'><input id='section-de62c859-08c1-4e46-9aed-6f26d794a70e' class='xr-section-summary-in' type='checkbox'  checked><label for='section-de62c859-08c1-4e46-9aed-6f26d794a70e' class='xr-section-summary' >Attributes: <span>(1)</span></label><div class='xr-section-inline-details'></div><div class='xr-section-details'><dl class='xr-attrs'><dt><span>GridHeader :</span></dt><dd>BinMethod=ARITHMETIC_MEAN;\n",
       "Registration=CENTER;\n",
       "LatitudeResolution=0.1;\n",
       "LongitudeResolution=0.1;\n",
       "NorthBoundingCoordinate=90;\n",
       "SouthBoundingCoordinate=-90;\n",
       "EastBoundingCoordinate=180;\n",
       "WestBoundingCoordinate=-180;\n",
       "Origin=SOUTHWEST;\n",
       "</dd></dl></div></li></ul></div></div>"
      ],
      "text/plain": [
       "<xarray.Dataset>\n",
       "Dimensions:                         (lat: 1800, latv: 2, lon: 3600, lonv: 2, nv: 2, time: 1)\n",
       "Coordinates:\n",
       "  * time                            (time) object 2021-03-03 04:00:00\n",
       "  * lon                             (lon) float32 -179.9 -179.9 ... 179.9 179.9\n",
       "  * lat                             (lat) float32 -89.95 -89.85 ... 89.85 89.95\n",
       "Dimensions without coordinates: latv, lonv, nv\n",
       "Data variables: (12/13)\n",
       "    time_bnds                       (time, nv) object ...\n",
       "    lon_bnds                        (lon, lonv) float32 ...\n",
       "    lat_bnds                        (lat, latv) float32 ...\n",
       "    precipitationCal                (time, lon, lat) float32 ...\n",
       "    precipitationUncal              (time, lon, lat) float32 ...\n",
       "    randomError                     (time, lon, lat) float32 ...\n",
       "    ...                              ...\n",
       "    HQprecipSource                  (time, lon, lat) float32 ...\n",
       "    HQobservationTime               (time, lon, lat) timedelta64[ns] ...\n",
       "    IRprecipitation                 (time, lon, lat) float32 ...\n",
       "    IRkalmanFilterWeight            (time, lon, lat) float32 ...\n",
       "    probabilityLiquidPrecipitation  (time, lon, lat) float32 ...\n",
       "    precipitationQualityIndex       (time, lon, lat) float32 ...\n",
       "Attributes:\n",
       "    GridHeader:  BinMethod=ARITHMETIC_MEAN;\\nRegistration=CENTER;\\nLatitudeRe..."
      ]
     },
     "execution_count": 31,
     "metadata": {},
     "output_type": "execute_result"
    }
   ],
   "source": [
    "# Figure out the average file size for estimating files per chunk\n",
    "import xarray as xr\n",
    "\n",
    "ds = xr.open_dataset(\"../../data/3B-HHR.MS.MRG.3IMERG.20210303-S040000-E042959.0240.V06B.HDF5\", group=\"Grid\")\n",
    "ds\n"
   ]
  },
  {
   "cell_type": "code",
   "execution_count": 32,
   "id": "95e26c67-d6bf-431a-ba49-37e8cc996b99",
   "metadata": {},
   "outputs": [
    {
     "name": "stdout",
     "output_type": "stream",
     "text": [
      "File size is 285.184824 MB\n"
     ]
    }
   ],
   "source": [
    "print(f\"File size is {ds.nbytes/1e6} MB\")"
   ]
  },
  {
   "cell_type": "code",
   "execution_count": 26,
   "id": "8df8c855-b364-498e-b2ab-140530c4bf0c",
   "metadata": {},
   "outputs": [],
   "source": [
    "#url example\n",
    "# https://arthurhouhttps.pps.eosdis.nasa.gov/gpmdata/2021/04/30/imerg/3B-HHR.MS.MRG.3IMERG.20210430-S000000-E002959.0000.V06B.HDF5\n",
    "# Login is via the PPS system, username/password is the email address you register with\n",
    "input_url_pattern = (\n",
    "    \"https://arthurhouhttps.pps.eosdis.nasa.gov/gpmdata/{yyyy}/{mm}/{dd}/imerg/3B-HHR.MS.MRG.3IMERG.{yyyymmdd}-S{sh}{sm}00-E{eh}{em}59.{MMMM}.V06B.HDF5\"\n",
    ")"
   ]
  },
  {
   "cell_type": "code",
   "execution_count": 29,
   "id": "62a3cd82-2ed6-44b1-851f-d3bf3485f0b0",
   "metadata": {},
   "outputs": [
    {
     "name": "stdout",
     "output_type": "stream",
     "text": [
      "Found 368160 files!\n"
     ]
    },
    {
     "data": {
      "text/plain": [
       "'https://arthurhouhttps.pps.eosdis.nasa.gov/gpmdata/2021/05/11/imerg/3B-HHR.MS.MRG.3IMERG.20210511-S033000-E035959.0210.V06B.HDF5'"
      ]
     },
     "execution_count": 29,
     "metadata": {},
     "output_type": "execute_result"
    }
   ],
   "source": [
    "#June 2000 to \n",
    "dates = pd.date_range(\"2000-06-01T00:00:00\", \"2021-05-31T23:59:59\", freq=\"30min\")\n",
    "input_urls = [\n",
    "    input_url_pattern.format(\n",
    "        yyyy=hhr.strftime(\"%Y\"),\n",
    "        mm = hhr.strftime(\"%m\"),\n",
    "        dd = hhr.strftime(\"%d\"),\n",
    "        yyyymmdd=hhr.strftime(\"%Y%m%d\"),\n",
    "        sh = hhr.strftime(\"%H\"),\n",
    "        sm = hhr.strftime(\"%M\"),\n",
    "        eh = hhr.strftime(\"%H\"),\n",
    "        em = (hhr+pd.Timedelta(\"29 min\")).strftime(\"%M\"),\n",
    "        MMMM = f'{(hhr.hour*60 + hhr.minute):04}'\n",
    "    )\n",
    "    for hhr in dates\n",
    "]\n",
    "print(f\"Found {len(input_urls)} files!\")\n",
    "input_urls[-1001]\n"
   ]
  },
  {
   "cell_type": "code",
   "execution_count": 33,
   "id": "43cb55e6-1400-4931-80d6-a506c61e0e5f",
   "metadata": {},
   "outputs": [
    {
     "data": {
      "text/plain": [
       "<FilePattern {'time': 368160}>"
      ]
     },
     "execution_count": 33,
     "metadata": {},
     "output_type": "execute_result"
    }
   ],
   "source": [
    "pattern = pattern_from_file_sequence(input_urls, \"time\", nitems_per_file=1)\n",
    "pattern"
   ]
  },
  {
   "cell_type": "code",
   "execution_count": 34,
   "id": "5abc1204-d482-41fc-b2ff-39baf7f5cb43",
   "metadata": {},
   "outputs": [
    {
     "data": {
      "text/plain": [
       "(DimIndex(name='time', index=0, sequence_len=368160, operation=<CombineOp.CONCAT: 2>))"
      ]
     },
     "execution_count": 34,
     "metadata": {},
     "output_type": "execute_result"
    }
   ],
   "source": [
    "for key in pattern:\n",
    "    break\n",
    "key"
   ]
  },
  {
   "cell_type": "code",
   "execution_count": 35,
   "id": "23bfc9b3-3a6b-4c93-997a-7832ea4e0f3a",
   "metadata": {},
   "outputs": [
    {
     "data": {
      "text/plain": [
       "'https://arthurhouhttps.pps.eosdis.nasa.gov/gpmdata/2000/06/01/imerg/3B-HHR.MS.MRG.3IMERG.20000601-S000000-E002959.0000.V06B.HDF5'"
      ]
     },
     "execution_count": 35,
     "metadata": {},
     "output_type": "execute_result"
    }
   ],
   "source": [
    "pattern[key]"
   ]
  },
  {
   "cell_type": "code",
   "execution_count": 51,
   "id": "744b26be-00da-4e85-a97c-d609e7e671b9",
   "metadata": {},
   "outputs": [
    {
     "data": {
      "text/plain": [
       "XarrayZarrRecipe(file_pattern=<FilePattern {'time': 368160}>, inputs_per_chunk=1, target_chunks={}, target=None, input_cache=None, metadata_cache=None, cache_inputs=True, copy_input_to_local_file=False, consolidate_zarr=True, xarray_open_kwargs={'group': 'Grid', 'drop_variables': ['time_bnds', 'lon_bnds', 'lat_bnds']}, xarray_concat_kwargs={}, delete_input_encoding=True, fsspec_open_kwargs={'username': 'alex@developmentseed.org', 'password': 'alex@developmentseed.org'}, process_input=None, process_chunk=None, lock_timeout=None, subset_inputs={}, is_opendap=False)"
      ]
     },
     "execution_count": 51,
     "metadata": {},
     "output_type": "execute_result"
    }
   ],
   "source": [
    "recipe = XarrayZarrRecipe(\n",
    "    pattern, \n",
    "    xarray_open_kwargs={'group': 'Grid', 'drop_variables': ['time_bnds', 'lon_bnds', 'lat_bnds']},\n",
    "    #fsspec_open_kwargs={'auth': aiohttp.BasicAuth(os.environ['GPM_IMERG_USERNAME'], os.environ['GPM_IMERG_PASSWORD'])},\n",
    "    fsspec_open_kwargs={'username': os.environ['GPM_IMERG_USERNAME'], 'password': os.environ['GPM_IMERG_PASSWORD']},\n",
    "    inputs_per_chunk=1\n",
    ")\n",
    "recipe"
   ]
  },
  {
   "cell_type": "code",
   "execution_count": 46,
   "id": "801210a9-c600-410f-88ed-f9b955ef1730",
   "metadata": {},
   "outputs": [],
   "source": [
    "# Testing\n",
    "import logging\n",
    "logger = logging.getLogger(\"pangeo_forge_recipes\")\n",
    "formatter = logging.Formatter('%(name)s:%(levelname)s - %(message)s')\n",
    "handler = logging.StreamHandler()\n",
    "handler.setLevel(logging.INFO)\n",
    "handler.setFormatter(formatter)\n",
    "logger.setLevel(logging.INFO)\n",
    "logger.addHandler(handler)"
   ]
  },
  {
   "cell_type": "code",
   "execution_count": 40,
   "id": "eedac86d-6862-48d5-b236-bcd23d632d39",
   "metadata": {},
   "outputs": [
    {
     "data": {
      "text/plain": [
       "368160"
      ]
     },
     "execution_count": 40,
     "metadata": {},
     "output_type": "execute_result"
    }
   ],
   "source": [
    "all_inputs = list(recipe.iter_inputs())\n",
    "len(all_inputs)"
   ]
  },
  {
   "cell_type": "code",
   "execution_count": 41,
   "id": "20c2a41e-fa46-4c34-a888-40188aa5ac34",
   "metadata": {},
   "outputs": [
    {
     "data": {
      "text/plain": [
       "368160"
      ]
     },
     "execution_count": 41,
     "metadata": {},
     "output_type": "execute_result"
    }
   ],
   "source": [
    "all_chunks = list(recipe.iter_chunks())\n",
    "len(all_chunks)"
   ]
  },
  {
   "cell_type": "code",
   "execution_count": 54,
   "id": "4bf12042-8041-4263-a40c-5c673f07c219",
   "metadata": {},
   "outputs": [
    {
     "name": "stderr",
     "output_type": "stream",
     "text": [
      "pangeo_forge_recipes.recipes.xarray_zarr:INFO - Opening inputs for chunk time-0\n",
      "pangeo_forge_recipes.recipes.xarray_zarr:INFO - Opening inputs for chunk time-0\n",
      "pangeo_forge_recipes.recipes.xarray_zarr:INFO - Opening input with Xarray time-0: 'https://arthurhouhttps.pps.eosdis.nasa.gov/gpmdata/2000/06/01/imerg/3B-HHR.MS.MRG.3IMERG.20000601-S000000-E002959.0000.V06B.HDF5'\n",
      "pangeo_forge_recipes.recipes.xarray_zarr:INFO - Opening input with Xarray time-0: 'https://arthurhouhttps.pps.eosdis.nasa.gov/gpmdata/2000/06/01/imerg/3B-HHR.MS.MRG.3IMERG.20000601-S000000-E002959.0000.V06B.HDF5'\n",
      "pangeo_forge_recipes.storage:INFO - Opening 'https://arthurhouhttps.pps.eosdis.nasa.gov/gpmdata/2000/06/01/imerg/3B-HHR.MS.MRG.3IMERG.20000601-S000000-E002959.0000.V06B.HDF5' directly.\n",
      "pangeo_forge_recipes.storage:INFO - Opening 'https://arthurhouhttps.pps.eosdis.nasa.gov/gpmdata/2000/06/01/imerg/3B-HHR.MS.MRG.3IMERG.20000601-S000000-E002959.0000.V06B.HDF5' directly.\n"
     ]
    },
    {
     "name": "stdout",
     "output_type": "stream",
     "text": [
      "Exception reporting mode: Plain\n"
     ]
    },
    {
     "ename": "ClientResponseError",
     "evalue": "401, message='Unauthorized', url=URL('https://arthurhouhttps.pps.eosdis.nasa.gov/gpmdata/2000/06/01/imerg/3B-HHR.MS.MRG.3IMERG.20000601-S000000-E002959.0000.V06B.HDF5')",
     "output_type": "error",
     "traceback": [
      "Traceback \u001b[0;36m(most recent call last)\u001b[0m:\n",
      "  File \u001b[1;32m\"/tmp/ipykernel_2308/2639985766.py\"\u001b[0m, line \u001b[1;32m2\u001b[0m, in \u001b[1;35m<module>\u001b[0m\n    with recipe.open_chunk(all_chunks[0]) as ds:\n",
      "  File \u001b[1;32m\"/srv/conda/envs/notebook/lib/python3.8/contextlib.py\"\u001b[0m, line \u001b[1;32m113\u001b[0m, in \u001b[1;35m__enter__\u001b[0m\n    return next(self.gen)\n",
      "  File \u001b[1;32m\"/srv/conda/envs/notebook/lib/python3.8/site-packages/pangeo_forge_recipes/recipes/xarray_zarr.py\"\u001b[0m, line \u001b[1;32m942\u001b[0m, in \u001b[1;35mopen_chunk\u001b[0m\n    with open_chunk(\n",
      "  File \u001b[1;32m\"/srv/conda/envs/notebook/lib/python3.8/contextlib.py\"\u001b[0m, line \u001b[1;32m113\u001b[0m, in \u001b[1;35m__enter__\u001b[0m\n    return next(self.gen)\n",
      "  File \u001b[1;32m\"/srv/conda/envs/notebook/lib/python3.8/site-packages/pangeo_forge_recipes/recipes/xarray_zarr.py\"\u001b[0m, line \u001b[1;32m339\u001b[0m, in \u001b[1;35mopen_chunk\u001b[0m\n    dsets = [\n",
      "  File \u001b[1;32m\"/srv/conda/envs/notebook/lib/python3.8/site-packages/pangeo_forge_recipes/recipes/xarray_zarr.py\"\u001b[0m, line \u001b[1;32m340\u001b[0m, in \u001b[1;35m<listcomp>\u001b[0m\n    stack.enter_context(\n",
      "  File \u001b[1;32m\"/srv/conda/envs/notebook/lib/python3.8/contextlib.py\"\u001b[0m, line \u001b[1;32m425\u001b[0m, in \u001b[1;35menter_context\u001b[0m\n    result = _cm_type.__enter__(cm)\n",
      "  File \u001b[1;32m\"/srv/conda/envs/notebook/lib/python3.8/contextlib.py\"\u001b[0m, line \u001b[1;32m113\u001b[0m, in \u001b[1;35m__enter__\u001b[0m\n    return next(self.gen)\n",
      "  File \u001b[1;32m\"/srv/conda/envs/notebook/lib/python3.8/site-packages/pangeo_forge_recipes/recipes/xarray_zarr.py\"\u001b[0m, line \u001b[1;32m288\u001b[0m, in \u001b[1;35mopen_input\u001b[0m\n    with xr.open_dataset(f, **kw) as ds:\n",
      "  File \u001b[1;32m\"/srv/conda/envs/notebook/lib/python3.8/site-packages/xarray/backends/api.py\"\u001b[0m, line \u001b[1;32m496\u001b[0m, in \u001b[1;35mopen_dataset\u001b[0m\n    backend_ds = backend.open_dataset(\n",
      "  File \u001b[1;32m\"/srv/conda/envs/notebook/lib/python3.8/site-packages/xarray/backends/h5netcdf_.py\"\u001b[0m, line \u001b[1;32m372\u001b[0m, in \u001b[1;35mopen_dataset\u001b[0m\n    store = H5NetCDFStore.open(\n",
      "  File \u001b[1;32m\"/srv/conda/envs/notebook/lib/python3.8/site-packages/xarray/backends/h5netcdf_.py\"\u001b[0m, line \u001b[1;32m148\u001b[0m, in \u001b[1;35mopen\u001b[0m\n    magic_number = read_magic_number_from_file(filename)\n",
      "  File \u001b[1;32m\"/srv/conda/envs/notebook/lib/python3.8/site-packages/xarray/core/utils.py\"\u001b[0m, line \u001b[1;32m660\u001b[0m, in \u001b[1;35mread_magic_number_from_file\u001b[0m\n    magic_number = filename_or_obj.read(count)  # type: ignore\n",
      "  File \u001b[1;32m\"/srv/conda/envs/notebook/lib/python3.8/site-packages/fsspec/implementations/http.py\"\u001b[0m, line \u001b[1;32m498\u001b[0m, in \u001b[1;35mread\u001b[0m\n    return super().read(length)\n",
      "  File \u001b[1;32m\"/srv/conda/envs/notebook/lib/python3.8/site-packages/fsspec/spec.py\"\u001b[0m, line \u001b[1;32m1483\u001b[0m, in \u001b[1;35mread\u001b[0m\n    out = self.cache._fetch(self.loc, self.loc + length)\n",
      "  File \u001b[1;32m\"/srv/conda/envs/notebook/lib/python3.8/site-packages/fsspec/caching.py\"\u001b[0m, line \u001b[1;32m376\u001b[0m, in \u001b[1;35m_fetch\u001b[0m\n    self.cache = self.fetcher(start, bend)\n",
      "  File \u001b[1;32m\"/srv/conda/envs/notebook/lib/python3.8/site-packages/fsspec/asyn.py\"\u001b[0m, line \u001b[1;32m88\u001b[0m, in \u001b[1;35mwrapper\u001b[0m\n    return sync(self.loop, func, *args, **kwargs)\n",
      "  File \u001b[1;32m\"/srv/conda/envs/notebook/lib/python3.8/site-packages/fsspec/asyn.py\"\u001b[0m, line \u001b[1;32m69\u001b[0m, in \u001b[1;35msync\u001b[0m\n    raise result[0]\n",
      "  File \u001b[1;32m\"/srv/conda/envs/notebook/lib/python3.8/site-packages/fsspec/asyn.py\"\u001b[0m, line \u001b[1;32m25\u001b[0m, in \u001b[1;35m_runner\u001b[0m\n    result[0] = await coro\n",
      "  File \u001b[1;32m\"/srv/conda/envs/notebook/lib/python3.8/site-packages/fsspec/implementations/http.py\"\u001b[0m, line \u001b[1;32m537\u001b[0m, in \u001b[1;35masync_fetch_range\u001b[0m\n    r.raise_for_status()\n",
      "\u001b[0;36m  File \u001b[0;32m\"/srv/conda/envs/notebook/lib/python3.8/site-packages/aiohttp/client_reqrep.py\"\u001b[0;36m, line \u001b[0;32m1000\u001b[0;36m, in \u001b[0;35mraise_for_status\u001b[0;36m\u001b[0m\n\u001b[0;31m    raise ClientResponseError(\u001b[0m\n",
      "\u001b[0;31mClientResponseError\u001b[0m\u001b[0;31m:\u001b[0m 401, message='Unauthorized', url=URL('https://arthurhouhttps.pps.eosdis.nasa.gov/gpmdata/2000/06/01/imerg/3B-HHR.MS.MRG.3IMERG.20000601-S000000-E002959.0000.V06B.HDF5')\n"
     ]
    }
   ],
   "source": [
    "%xmode Plain\n",
    "with recipe.open_chunk(all_chunks[0]) as ds:\n",
    "    display(ds)"
   ]
  },
  {
   "cell_type": "code",
   "execution_count": 43,
   "id": "2af39602-48b0-4679-b054-f7c9db9f0230",
   "metadata": {},
   "outputs": [
    {
     "data": {
      "text/plain": [
       "(DimIndex(name='time', index=1, sequence_len=368160, operation=<CombineOp.CONCAT: 2>))"
      ]
     },
     "execution_count": 43,
     "metadata": {},
     "output_type": "execute_result"
    }
   ],
   "source": [
    "all_chunks[1]"
   ]
  },
  {
   "cell_type": "code",
   "execution_count": 44,
   "id": "87ce5728-e673-41da-9c67-988a46d60d1c",
   "metadata": {},
   "outputs": [
    {
     "data": {
      "text/plain": [
       "XarrayZarrRecipe(file_pattern=<FilePattern {'time': 368160}>, inputs_per_chunk=1, target_chunks={}, target=FSSpecTarget(fs=<fsspec.implementations.local.LocalFileSystem object at 0x7f84df934550>, root_path='/tmp/tmp2phhsse6'), input_cache=CacheFSSpecTarget(fs=<fsspec.implementations.local.LocalFileSystem object at 0x7f84df934550>, root_path='/tmp/tmpqq8y5pzq'), metadata_cache=None, cache_inputs=True, copy_input_to_local_file=False, consolidate_zarr=True, xarray_open_kwargs={'group': 'Grid', 'drop_variables': ['time_bnds', 'lon_bnds', 'lat_bnds']}, xarray_concat_kwargs={}, delete_input_encoding=True, fsspec_open_kwargs={'client_kwargs': {'auth': BasicAuth(login='alex@developmentseed.org', password='alex@developmentseed.org', encoding='latin1')}}, process_input=None, process_chunk=None, lock_timeout=None, subset_inputs={}, is_opendap=False)"
      ]
     },
     "execution_count": 44,
     "metadata": {},
     "output_type": "execute_result"
    }
   ],
   "source": [
    "import tempfile\n",
    "from fsspec.implementations.local import LocalFileSystem\n",
    "from pangeo_forge_recipes.storage import FSSpecTarget, CacheFSSpecTarget\n",
    "\n",
    "fs_local = LocalFileSystem()\n",
    "\n",
    "cache_dir = tempfile.TemporaryDirectory()\n",
    "cache_target = CacheFSSpecTarget(fs_local, cache_dir.name)\n",
    "\n",
    "target_dir = tempfile.TemporaryDirectory()\n",
    "target = FSSpecTarget(fs_local, target_dir.name)\n",
    "\n",
    "recipe.input_cache = cache_target\n",
    "recipe.target = target\n",
    "recipe"
   ]
  },
  {
   "cell_type": "code",
   "execution_count": null,
   "id": "9c2e6118-f111-4a8f-8bff-db22f283acab",
   "metadata": {},
   "outputs": [],
   "source": [
    "for input_file in recipe.inputs_for_chunk(all_chunks[0]):\n",
    "    recipe.cache_input(input_file)"
   ]
  },
  {
   "cell_type": "code",
   "execution_count": 49,
   "id": "00769f63-8d56-4b66-99df-5f6b616cf2aa",
   "metadata": {},
   "outputs": [
    {
     "data": {
      "text/plain": [
       "\u001b[0;31mInit signature:\u001b[0m\n",
       "\u001b[0mXarrayZarrRecipe\u001b[0m\u001b[0;34m(\u001b[0m\u001b[0;34m\u001b[0m\n",
       "\u001b[0;34m\u001b[0m    \u001b[0mfile_pattern\u001b[0m\u001b[0;34m:\u001b[0m \u001b[0mpangeo_forge_recipes\u001b[0m\u001b[0;34m.\u001b[0m\u001b[0mpatterns\u001b[0m\u001b[0;34m.\u001b[0m\u001b[0mFilePattern\u001b[0m\u001b[0;34m,\u001b[0m\u001b[0;34m\u001b[0m\n",
       "\u001b[0;34m\u001b[0m    \u001b[0minputs_per_chunk\u001b[0m\u001b[0;34m:\u001b[0m \u001b[0mint\u001b[0m \u001b[0;34m=\u001b[0m \u001b[0;36m1\u001b[0m\u001b[0;34m,\u001b[0m\u001b[0;34m\u001b[0m\n",
       "\u001b[0;34m\u001b[0m    \u001b[0mtarget_chunks\u001b[0m\u001b[0;34m:\u001b[0m \u001b[0mDict\u001b[0m\u001b[0;34m[\u001b[0m\u001b[0mstr\u001b[0m\u001b[0;34m,\u001b[0m \u001b[0mint\u001b[0m\u001b[0;34m]\u001b[0m \u001b[0;34m=\u001b[0m \u001b[0;34m<\u001b[0m\u001b[0mfactory\u001b[0m\u001b[0;34m>\u001b[0m\u001b[0;34m,\u001b[0m\u001b[0;34m\u001b[0m\n",
       "\u001b[0;34m\u001b[0m    \u001b[0mtarget\u001b[0m\u001b[0;34m:\u001b[0m \u001b[0mUnion\u001b[0m\u001b[0;34m[\u001b[0m\u001b[0mpangeo_forge_recipes\u001b[0m\u001b[0;34m.\u001b[0m\u001b[0mstorage\u001b[0m\u001b[0;34m.\u001b[0m\u001b[0mAbstractTarget\u001b[0m\u001b[0;34m,\u001b[0m \u001b[0mNoneType\u001b[0m\u001b[0;34m]\u001b[0m \u001b[0;34m=\u001b[0m \u001b[0;32mNone\u001b[0m\u001b[0;34m,\u001b[0m\u001b[0;34m\u001b[0m\n",
       "\u001b[0;34m\u001b[0m    \u001b[0minput_cache\u001b[0m\u001b[0;34m:\u001b[0m \u001b[0mUnion\u001b[0m\u001b[0;34m[\u001b[0m\u001b[0mpangeo_forge_recipes\u001b[0m\u001b[0;34m.\u001b[0m\u001b[0mstorage\u001b[0m\u001b[0;34m.\u001b[0m\u001b[0mCacheFSSpecTarget\u001b[0m\u001b[0;34m,\u001b[0m \u001b[0mNoneType\u001b[0m\u001b[0;34m]\u001b[0m \u001b[0;34m=\u001b[0m \u001b[0;32mNone\u001b[0m\u001b[0;34m,\u001b[0m\u001b[0;34m\u001b[0m\n",
       "\u001b[0;34m\u001b[0m    \u001b[0mmetadata_cache\u001b[0m\u001b[0;34m:\u001b[0m \u001b[0mUnion\u001b[0m\u001b[0;34m[\u001b[0m\u001b[0mpangeo_forge_recipes\u001b[0m\u001b[0;34m.\u001b[0m\u001b[0mstorage\u001b[0m\u001b[0;34m.\u001b[0m\u001b[0mMetadataTarget\u001b[0m\u001b[0;34m,\u001b[0m \u001b[0mNoneType\u001b[0m\u001b[0;34m]\u001b[0m \u001b[0;34m=\u001b[0m \u001b[0;32mNone\u001b[0m\u001b[0;34m,\u001b[0m\u001b[0;34m\u001b[0m\n",
       "\u001b[0;34m\u001b[0m    \u001b[0mcache_inputs\u001b[0m\u001b[0;34m:\u001b[0m \u001b[0mUnion\u001b[0m\u001b[0;34m[\u001b[0m\u001b[0mbool\u001b[0m\u001b[0;34m,\u001b[0m \u001b[0mNoneType\u001b[0m\u001b[0;34m]\u001b[0m \u001b[0;34m=\u001b[0m \u001b[0;32mNone\u001b[0m\u001b[0;34m,\u001b[0m\u001b[0;34m\u001b[0m\n",
       "\u001b[0;34m\u001b[0m    \u001b[0mcopy_input_to_local_file\u001b[0m\u001b[0;34m:\u001b[0m \u001b[0mbool\u001b[0m \u001b[0;34m=\u001b[0m \u001b[0;32mFalse\u001b[0m\u001b[0;34m,\u001b[0m\u001b[0;34m\u001b[0m\n",
       "\u001b[0;34m\u001b[0m    \u001b[0mconsolidate_zarr\u001b[0m\u001b[0;34m:\u001b[0m \u001b[0mbool\u001b[0m \u001b[0;34m=\u001b[0m \u001b[0;32mTrue\u001b[0m\u001b[0;34m,\u001b[0m\u001b[0;34m\u001b[0m\n",
       "\u001b[0;34m\u001b[0m    \u001b[0mxarray_open_kwargs\u001b[0m\u001b[0;34m:\u001b[0m \u001b[0mdict\u001b[0m \u001b[0;34m=\u001b[0m \u001b[0;34m<\u001b[0m\u001b[0mfactory\u001b[0m\u001b[0;34m>\u001b[0m\u001b[0;34m,\u001b[0m\u001b[0;34m\u001b[0m\n",
       "\u001b[0;34m\u001b[0m    \u001b[0mxarray_concat_kwargs\u001b[0m\u001b[0;34m:\u001b[0m \u001b[0mdict\u001b[0m \u001b[0;34m=\u001b[0m \u001b[0;34m<\u001b[0m\u001b[0mfactory\u001b[0m\u001b[0;34m>\u001b[0m\u001b[0;34m,\u001b[0m\u001b[0;34m\u001b[0m\n",
       "\u001b[0;34m\u001b[0m    \u001b[0mdelete_input_encoding\u001b[0m\u001b[0;34m:\u001b[0m \u001b[0mbool\u001b[0m \u001b[0;34m=\u001b[0m \u001b[0;32mTrue\u001b[0m\u001b[0;34m,\u001b[0m\u001b[0;34m\u001b[0m\n",
       "\u001b[0;34m\u001b[0m    \u001b[0mfsspec_open_kwargs\u001b[0m\u001b[0;34m:\u001b[0m \u001b[0mdict\u001b[0m \u001b[0;34m=\u001b[0m \u001b[0;34m<\u001b[0m\u001b[0mfactory\u001b[0m\u001b[0;34m>\u001b[0m\u001b[0;34m,\u001b[0m\u001b[0;34m\u001b[0m\n",
       "\u001b[0;34m\u001b[0m    \u001b[0mprocess_input\u001b[0m\u001b[0;34m:\u001b[0m \u001b[0mUnion\u001b[0m\u001b[0;34m[\u001b[0m\u001b[0mCallable\u001b[0m\u001b[0;34m[\u001b[0m\u001b[0;34m[\u001b[0m\u001b[0mxarray\u001b[0m\u001b[0;34m.\u001b[0m\u001b[0mcore\u001b[0m\u001b[0;34m.\u001b[0m\u001b[0mdataset\u001b[0m\u001b[0;34m.\u001b[0m\u001b[0mDataset\u001b[0m\u001b[0;34m,\u001b[0m \u001b[0mstr\u001b[0m\u001b[0;34m]\u001b[0m\u001b[0;34m,\u001b[0m \u001b[0mxarray\u001b[0m\u001b[0;34m.\u001b[0m\u001b[0mcore\u001b[0m\u001b[0;34m.\u001b[0m\u001b[0mdataset\u001b[0m\u001b[0;34m.\u001b[0m\u001b[0mDataset\u001b[0m\u001b[0;34m]\u001b[0m\u001b[0;34m,\u001b[0m \u001b[0mNoneType\u001b[0m\u001b[0;34m]\u001b[0m \u001b[0;34m=\u001b[0m \u001b[0;32mNone\u001b[0m\u001b[0;34m,\u001b[0m\u001b[0;34m\u001b[0m\n",
       "\u001b[0;34m\u001b[0m    \u001b[0mprocess_chunk\u001b[0m\u001b[0;34m:\u001b[0m \u001b[0mUnion\u001b[0m\u001b[0;34m[\u001b[0m\u001b[0mCallable\u001b[0m\u001b[0;34m[\u001b[0m\u001b[0;34m[\u001b[0m\u001b[0mxarray\u001b[0m\u001b[0;34m.\u001b[0m\u001b[0mcore\u001b[0m\u001b[0;34m.\u001b[0m\u001b[0mdataset\u001b[0m\u001b[0;34m.\u001b[0m\u001b[0mDataset\u001b[0m\u001b[0;34m]\u001b[0m\u001b[0;34m,\u001b[0m \u001b[0mxarray\u001b[0m\u001b[0;34m.\u001b[0m\u001b[0mcore\u001b[0m\u001b[0;34m.\u001b[0m\u001b[0mdataset\u001b[0m\u001b[0;34m.\u001b[0m\u001b[0mDataset\u001b[0m\u001b[0;34m]\u001b[0m\u001b[0;34m,\u001b[0m \u001b[0mNoneType\u001b[0m\u001b[0;34m]\u001b[0m \u001b[0;34m=\u001b[0m \u001b[0;32mNone\u001b[0m\u001b[0;34m,\u001b[0m\u001b[0;34m\u001b[0m\n",
       "\u001b[0;34m\u001b[0m    \u001b[0mlock_timeout\u001b[0m\u001b[0;34m:\u001b[0m \u001b[0mUnion\u001b[0m\u001b[0;34m[\u001b[0m\u001b[0mint\u001b[0m\u001b[0;34m,\u001b[0m \u001b[0mNoneType\u001b[0m\u001b[0;34m]\u001b[0m \u001b[0;34m=\u001b[0m \u001b[0;32mNone\u001b[0m\u001b[0;34m,\u001b[0m\u001b[0;34m\u001b[0m\n",
       "\u001b[0;34m\u001b[0m    \u001b[0msubset_inputs\u001b[0m\u001b[0;34m:\u001b[0m \u001b[0mDict\u001b[0m\u001b[0;34m[\u001b[0m\u001b[0mstr\u001b[0m\u001b[0;34m,\u001b[0m \u001b[0mint\u001b[0m\u001b[0;34m]\u001b[0m \u001b[0;34m=\u001b[0m \u001b[0;34m<\u001b[0m\u001b[0mfactory\u001b[0m\u001b[0;34m>\u001b[0m\u001b[0;34m,\u001b[0m\u001b[0;34m\u001b[0m\n",
       "\u001b[0;34m\u001b[0m    \u001b[0mis_opendap\u001b[0m\u001b[0;34m:\u001b[0m \u001b[0mbool\u001b[0m \u001b[0;34m=\u001b[0m \u001b[0;32mFalse\u001b[0m\u001b[0;34m,\u001b[0m\u001b[0;34m\u001b[0m\n",
       "\u001b[0;34m\u001b[0m\u001b[0;34m)\u001b[0m \u001b[0;34m->\u001b[0m \u001b[0;32mNone\u001b[0m\u001b[0;34m\u001b[0m\u001b[0;34m\u001b[0m\u001b[0m\n",
       "\u001b[0;31mDocstring:\u001b[0m     \n",
       "This class represents a dataset composed of many individual NetCDF files.\n",
       "This class uses Xarray to read and write data and writes its output to Zarr.\n",
       "The organization of the source files is described by the ``file_pattern``.\n",
       "Currently this recipe supports at most one ``MergeDim`` and one ``ConcatDim``\n",
       "in the File Pattern.\n",
       "\n",
       ":param file_pattern: An object which describes the organization of the input files.\n",
       ":param inputs_per_chunk: The number of inputs to use in each chunk along the concat dim.\n",
       "   Must be an integer >= 1.\n",
       ":param target_chunks: Desired chunk structure for the targret dataset. This is a dictionary\n",
       "   mapping dimension names to chunk size. When using a :class:`patterns.FilePattern` with\n",
       "   a :class:`patterns.ConcatDim` that specifies ``n_items_per_file``, then you don't need\n",
       "   to include the concat dim in ``target_chunks``.\n",
       ":param target: A location in which to put the dataset. Can also be assigned at run time.\n",
       ":param input_cache: A location in which to cache temporary data.\n",
       ":param metadata_cache: A location in which to cache metadata for inputs and chunks.\n",
       "  Required if ``nitems_per_file=None`` on concat dim in file pattern.\n",
       ":param cache_inputs: If ``True``, inputs are copied to ``input_cache`` before\n",
       "  opening. If ``False``, try to open inputs directly from their source location.\n",
       ":param copy_input_to_local_file: Whether to copy the inputs to a temporary\n",
       "  local file. In this case, a path (rather than file object) is passed to\n",
       "  ``xr.open_dataset``. This is required for engines that can't open\n",
       "  file-like objects (e.g. pynio).\n",
       ":param consolidate_zarr: Whether to consolidate the resulting Zarr dataset.\n",
       ":param xarray_open_kwargs: Extra options for opening the inputs with Xarray.\n",
       ":param xarray_concat_kwargs: Extra options to pass to Xarray when concatenating\n",
       "  the inputs to form a chunk.\n",
       ":param delete_input_encoding: Whether to remove Xarray encoding from variables\n",
       "  in the input dataset\n",
       ":param fsspec_open_kwargs: Extra options for opening the inputs with fsspec.\n",
       ":param process_input: Function to call on each opened input, with signature\n",
       "  `(ds: xr.Dataset, filename: str) -> ds: xr.Dataset`.\n",
       ":param process_chunk: Function to call on each concatenated chunk, with signature\n",
       "  `(ds: xr.Dataset) -> ds: xr.Dataset`.\n",
       ":param lock_timeout: The default timeout for acquiring a chunk lock.\n",
       ":param subset_inputs: If set, break each input file up into multiple chunks\n",
       "  along dimension according to the specified mapping. For example,\n",
       "  ``{'time': 5}`` would split each input file into 5 chunks along the\n",
       "  time dimension. Multiple dimensions are allowed.\n",
       ":param is_opednap: If True, assume all input fnames represent opendap endpoints.\n",
       "  Cannot be used with caching.\n",
       "\u001b[0;31mFile:\u001b[0m           /srv/conda/envs/notebook/lib/python3.8/site-packages/pangeo_forge_recipes/recipes/xarray_zarr.py\n",
       "\u001b[0;31mType:\u001b[0m           ABCMeta\n",
       "\u001b[0;31mSubclasses:\u001b[0m     \n"
      ]
     },
     "metadata": {},
     "output_type": "display_data"
    }
   ],
   "source": [
    "XarrayZarrRecipe?"
   ]
  },
  {
   "cell_type": "code",
   "execution_count": 55,
   "id": "03f92a4a-60f3-4c86-ac26-7cafc579588f",
   "metadata": {},
   "outputs": [],
   "source": [
    "from fsspec import open"
   ]
  },
  {
   "cell_type": "code",
   "execution_count": 60,
   "id": "300f5aea-e59b-465b-80b6-5c9a082ed2af",
   "metadata": {},
   "outputs": [],
   "source": [
    "test = open(\"https://arthurhouhttps.pps.eosdis.nasa.gov/gpmdata/2021/03/03/gis/3B-DAY-GIS.MS.MRG.3IMERG.20210303-S000000-E235959.1830.V06B.tif\",\n",
    "           username=os.environ['GPM_IMERG_USERNAME'],\n",
    "           password=os.environ['GPM_IMERG_PASSWORD']\n",
    "           )"
   ]
  },
  {
   "cell_type": "code",
   "execution_count": 61,
   "id": "1e8d080f-020c-465b-9e70-68ffc23329ec",
   "metadata": {},
   "outputs": [
    {
     "ename": "FileNotFoundError",
     "evalue": "https://arthurhouhttps.pps.eosdis.nasa.gov/gpmdata/2021/03/03/gis/3B-DAY-GIS.MS.MRG.3IMERG.20210303-S000000-E235959.1830.V06B.tif",
     "output_type": "error",
     "traceback": [
      "Traceback \u001b[0;36m(most recent call last)\u001b[0m:\n",
      "  File \u001b[1;32m\"/tmp/ipykernel_2308/492516063.py\"\u001b[0m, line \u001b[1;32m1\u001b[0m, in \u001b[1;35m<module>\u001b[0m\n    with test as f:\n",
      "  File \u001b[1;32m\"/srv/conda/envs/notebook/lib/python3.8/site-packages/fsspec/core.py\"\u001b[0m, line \u001b[1;32m102\u001b[0m, in \u001b[1;35m__enter__\u001b[0m\n    f = self.fs.open(self.path, mode=mode)\n",
      "  File \u001b[1;32m\"/srv/conda/envs/notebook/lib/python3.8/site-packages/fsspec/spec.py\"\u001b[0m, line \u001b[1;32m976\u001b[0m, in \u001b[1;35mopen\u001b[0m\n    f = self._open(\n",
      "  File \u001b[1;32m\"/srv/conda/envs/notebook/lib/python3.8/site-packages/fsspec/implementations/http.py\"\u001b[0m, line \u001b[1;32m285\u001b[0m, in \u001b[1;35m_open\u001b[0m\n    size = size or self.info(path, **kwargs)[\"size\"]\n",
      "  File \u001b[1;32m\"/srv/conda/envs/notebook/lib/python3.8/site-packages/fsspec/asyn.py\"\u001b[0m, line \u001b[1;32m88\u001b[0m, in \u001b[1;35mwrapper\u001b[0m\n    return sync(self.loop, func, *args, **kwargs)\n",
      "  File \u001b[1;32m\"/srv/conda/envs/notebook/lib/python3.8/site-packages/fsspec/asyn.py\"\u001b[0m, line \u001b[1;32m69\u001b[0m, in \u001b[1;35msync\u001b[0m\n    raise result[0]\n",
      "  File \u001b[1;32m\"/srv/conda/envs/notebook/lib/python3.8/site-packages/fsspec/asyn.py\"\u001b[0m, line \u001b[1;32m25\u001b[0m, in \u001b[1;35m_runner\u001b[0m\n    result[0] = await coro\n",
      "\u001b[0;36m  File \u001b[0;32m\"/srv/conda/envs/notebook/lib/python3.8/site-packages/fsspec/implementations/http.py\"\u001b[0;36m, line \u001b[0;32m333\u001b[0;36m, in \u001b[0;35m_info\u001b[0;36m\u001b[0m\n\u001b[0;31m    raise FileNotFoundError(url)\u001b[0m\n",
      "\u001b[0;31mFileNotFoundError\u001b[0m\u001b[0;31m:\u001b[0m https://arthurhouhttps.pps.eosdis.nasa.gov/gpmdata/2021/03/03/gis/3B-DAY-GIS.MS.MRG.3IMERG.20210303-S000000-E235959.1830.V06B.tif\n"
     ]
    }
   ],
   "source": [
    "with test as f:\n",
    "    ds = xr.open_dataset(f)\n",
    "    ds"
   ]
  }
 ],
 "metadata": {
  "kernelspec": {
   "display_name": "Python 3 (ipykernel)",
   "language": "python",
   "name": "python3"
  },
  "language_info": {
   "codemirror_mode": {
    "name": "ipython",
    "version": 3
   },
   "file_extension": ".py",
   "mimetype": "text/x-python",
   "name": "python",
   "nbconvert_exporter": "python",
   "pygments_lexer": "ipython3",
   "version": "3.8.10"
  }
 },
 "nbformat": 4,
 "nbformat_minor": 5
}
