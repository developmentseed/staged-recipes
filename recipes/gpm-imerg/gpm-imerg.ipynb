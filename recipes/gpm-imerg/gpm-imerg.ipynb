{
 "cells": [
  {
   "cell_type": "code",
   "execution_count": 4,
   "id": "c1f1cec2-e3c4-453c-94bb-91b08f0a7f38",
   "metadata": {},
   "outputs": [],
   "source": [
    "from pangeo_forge_recipes.recipes import XarrayZarrRecipe\n",
    "from pangeo_forge_recipes.patterns import pattern_from_file_sequence\n",
    "import pandas as pd\n",
    "import aiohttp #Is auth still done this way?\n",
    "import os"
   ]
  },
  {
   "cell_type": "code",
   "execution_count": 31,
   "id": "e99d998a-c19e-4400-87f1-ad6e621f0dbf",
   "metadata": {},
   "outputs": [],
   "source": [
    "#move auth to correct place\n",
    "os.environ['GPM_IMERG_USERNAME'] = 'alex@developmentseed.org'\n",
    "os.environ['GPM_IMERG_PASSWORD'] = 'alex@developmentseed.org'"
   ]
  },
  {
   "cell_type": "code",
   "execution_count": 26,
   "id": "d98081de-034a-47f2-8eeb-724942ce8d29",
   "metadata": {},
   "outputs": [
    {
     "data": {
      "text/html": [
       "<div><svg style=\"position: absolute; width: 0; height: 0; overflow: hidden\">\n",
       "<defs>\n",
       "<symbol id=\"icon-database\" viewBox=\"0 0 32 32\">\n",
       "<path d=\"M16 0c-8.837 0-16 2.239-16 5v4c0 2.761 7.163 5 16 5s16-2.239 16-5v-4c0-2.761-7.163-5-16-5z\"></path>\n",
       "<path d=\"M16 17c-8.837 0-16-2.239-16-5v6c0 2.761 7.163 5 16 5s16-2.239 16-5v-6c0 2.761-7.163 5-16 5z\"></path>\n",
       "<path d=\"M16 26c-8.837 0-16-2.239-16-5v6c0 2.761 7.163 5 16 5s16-2.239 16-5v-6c0 2.761-7.163 5-16 5z\"></path>\n",
       "</symbol>\n",
       "<symbol id=\"icon-file-text2\" viewBox=\"0 0 32 32\">\n",
       "<path d=\"M28.681 7.159c-0.694-0.947-1.662-2.053-2.724-3.116s-2.169-2.030-3.116-2.724c-1.612-1.182-2.393-1.319-2.841-1.319h-15.5c-1.378 0-2.5 1.121-2.5 2.5v27c0 1.378 1.122 2.5 2.5 2.5h23c1.378 0 2.5-1.122 2.5-2.5v-19.5c0-0.448-0.137-1.23-1.319-2.841zM24.543 5.457c0.959 0.959 1.712 1.825 2.268 2.543h-4.811v-4.811c0.718 0.556 1.584 1.309 2.543 2.268zM28 29.5c0 0.271-0.229 0.5-0.5 0.5h-23c-0.271 0-0.5-0.229-0.5-0.5v-27c0-0.271 0.229-0.5 0.5-0.5 0 0 15.499-0 15.5 0v7c0 0.552 0.448 1 1 1h7v19.5z\"></path>\n",
       "<path d=\"M23 26h-14c-0.552 0-1-0.448-1-1s0.448-1 1-1h14c0.552 0 1 0.448 1 1s-0.448 1-1 1z\"></path>\n",
       "<path d=\"M23 22h-14c-0.552 0-1-0.448-1-1s0.448-1 1-1h14c0.552 0 1 0.448 1 1s-0.448 1-1 1z\"></path>\n",
       "<path d=\"M23 18h-14c-0.552 0-1-0.448-1-1s0.448-1 1-1h14c0.552 0 1 0.448 1 1s-0.448 1-1 1z\"></path>\n",
       "</symbol>\n",
       "</defs>\n",
       "</svg>\n",
       "<style>/* CSS stylesheet for displaying xarray objects in jupyterlab.\n",
       " *\n",
       " */\n",
       "\n",
       ":root {\n",
       "  --xr-font-color0: var(--jp-content-font-color0, rgba(0, 0, 0, 1));\n",
       "  --xr-font-color2: var(--jp-content-font-color2, rgba(0, 0, 0, 0.54));\n",
       "  --xr-font-color3: var(--jp-content-font-color3, rgba(0, 0, 0, 0.38));\n",
       "  --xr-border-color: var(--jp-border-color2, #e0e0e0);\n",
       "  --xr-disabled-color: var(--jp-layout-color3, #bdbdbd);\n",
       "  --xr-background-color: var(--jp-layout-color0, white);\n",
       "  --xr-background-color-row-even: var(--jp-layout-color1, white);\n",
       "  --xr-background-color-row-odd: var(--jp-layout-color2, #eeeeee);\n",
       "}\n",
       "\n",
       "html[theme=dark],\n",
       "body.vscode-dark {\n",
       "  --xr-font-color0: rgba(255, 255, 255, 1);\n",
       "  --xr-font-color2: rgba(255, 255, 255, 0.54);\n",
       "  --xr-font-color3: rgba(255, 255, 255, 0.38);\n",
       "  --xr-border-color: #1F1F1F;\n",
       "  --xr-disabled-color: #515151;\n",
       "  --xr-background-color: #111111;\n",
       "  --xr-background-color-row-even: #111111;\n",
       "  --xr-background-color-row-odd: #313131;\n",
       "}\n",
       "\n",
       ".xr-wrap {\n",
       "  display: block;\n",
       "  min-width: 300px;\n",
       "  max-width: 700px;\n",
       "}\n",
       "\n",
       ".xr-text-repr-fallback {\n",
       "  /* fallback to plain text repr when CSS is not injected (untrusted notebook) */\n",
       "  display: none;\n",
       "}\n",
       "\n",
       ".xr-header {\n",
       "  padding-top: 6px;\n",
       "  padding-bottom: 6px;\n",
       "  margin-bottom: 4px;\n",
       "  border-bottom: solid 1px var(--xr-border-color);\n",
       "}\n",
       "\n",
       ".xr-header > div,\n",
       ".xr-header > ul {\n",
       "  display: inline;\n",
       "  margin-top: 0;\n",
       "  margin-bottom: 0;\n",
       "}\n",
       "\n",
       ".xr-obj-type,\n",
       ".xr-array-name {\n",
       "  margin-left: 2px;\n",
       "  margin-right: 10px;\n",
       "}\n",
       "\n",
       ".xr-obj-type {\n",
       "  color: var(--xr-font-color2);\n",
       "}\n",
       "\n",
       ".xr-sections {\n",
       "  padding-left: 0 !important;\n",
       "  display: grid;\n",
       "  grid-template-columns: 150px auto auto 1fr 20px 20px;\n",
       "}\n",
       "\n",
       ".xr-section-item {\n",
       "  display: contents;\n",
       "}\n",
       "\n",
       ".xr-section-item input {\n",
       "  display: none;\n",
       "}\n",
       "\n",
       ".xr-section-item input + label {\n",
       "  color: var(--xr-disabled-color);\n",
       "}\n",
       "\n",
       ".xr-section-item input:enabled + label {\n",
       "  cursor: pointer;\n",
       "  color: var(--xr-font-color2);\n",
       "}\n",
       "\n",
       ".xr-section-item input:enabled + label:hover {\n",
       "  color: var(--xr-font-color0);\n",
       "}\n",
       "\n",
       ".xr-section-summary {\n",
       "  grid-column: 1;\n",
       "  color: var(--xr-font-color2);\n",
       "  font-weight: 500;\n",
       "}\n",
       "\n",
       ".xr-section-summary > span {\n",
       "  display: inline-block;\n",
       "  padding-left: 0.5em;\n",
       "}\n",
       "\n",
       ".xr-section-summary-in:disabled + label {\n",
       "  color: var(--xr-font-color2);\n",
       "}\n",
       "\n",
       ".xr-section-summary-in + label:before {\n",
       "  display: inline-block;\n",
       "  content: '►';\n",
       "  font-size: 11px;\n",
       "  width: 15px;\n",
       "  text-align: center;\n",
       "}\n",
       "\n",
       ".xr-section-summary-in:disabled + label:before {\n",
       "  color: var(--xr-disabled-color);\n",
       "}\n",
       "\n",
       ".xr-section-summary-in:checked + label:before {\n",
       "  content: '▼';\n",
       "}\n",
       "\n",
       ".xr-section-summary-in:checked + label > span {\n",
       "  display: none;\n",
       "}\n",
       "\n",
       ".xr-section-summary,\n",
       ".xr-section-inline-details {\n",
       "  padding-top: 4px;\n",
       "  padding-bottom: 4px;\n",
       "}\n",
       "\n",
       ".xr-section-inline-details {\n",
       "  grid-column: 2 / -1;\n",
       "}\n",
       "\n",
       ".xr-section-details {\n",
       "  display: none;\n",
       "  grid-column: 1 / -1;\n",
       "  margin-bottom: 5px;\n",
       "}\n",
       "\n",
       ".xr-section-summary-in:checked ~ .xr-section-details {\n",
       "  display: contents;\n",
       "}\n",
       "\n",
       ".xr-array-wrap {\n",
       "  grid-column: 1 / -1;\n",
       "  display: grid;\n",
       "  grid-template-columns: 20px auto;\n",
       "}\n",
       "\n",
       ".xr-array-wrap > label {\n",
       "  grid-column: 1;\n",
       "  vertical-align: top;\n",
       "}\n",
       "\n",
       ".xr-preview {\n",
       "  color: var(--xr-font-color3);\n",
       "}\n",
       "\n",
       ".xr-array-preview,\n",
       ".xr-array-data {\n",
       "  padding: 0 5px !important;\n",
       "  grid-column: 2;\n",
       "}\n",
       "\n",
       ".xr-array-data,\n",
       ".xr-array-in:checked ~ .xr-array-preview {\n",
       "  display: none;\n",
       "}\n",
       "\n",
       ".xr-array-in:checked ~ .xr-array-data,\n",
       ".xr-array-preview {\n",
       "  display: inline-block;\n",
       "}\n",
       "\n",
       ".xr-dim-list {\n",
       "  display: inline-block !important;\n",
       "  list-style: none;\n",
       "  padding: 0 !important;\n",
       "  margin: 0;\n",
       "}\n",
       "\n",
       ".xr-dim-list li {\n",
       "  display: inline-block;\n",
       "  padding: 0;\n",
       "  margin: 0;\n",
       "}\n",
       "\n",
       ".xr-dim-list:before {\n",
       "  content: '(';\n",
       "}\n",
       "\n",
       ".xr-dim-list:after {\n",
       "  content: ')';\n",
       "}\n",
       "\n",
       ".xr-dim-list li:not(:last-child):after {\n",
       "  content: ',';\n",
       "  padding-right: 5px;\n",
       "}\n",
       "\n",
       ".xr-has-index {\n",
       "  font-weight: bold;\n",
       "}\n",
       "\n",
       ".xr-var-list,\n",
       ".xr-var-item {\n",
       "  display: contents;\n",
       "}\n",
       "\n",
       ".xr-var-item > div,\n",
       ".xr-var-item label,\n",
       ".xr-var-item > .xr-var-name span {\n",
       "  background-color: var(--xr-background-color-row-even);\n",
       "  margin-bottom: 0;\n",
       "}\n",
       "\n",
       ".xr-var-item > .xr-var-name:hover span {\n",
       "  padding-right: 5px;\n",
       "}\n",
       "\n",
       ".xr-var-list > li:nth-child(odd) > div,\n",
       ".xr-var-list > li:nth-child(odd) > label,\n",
       ".xr-var-list > li:nth-child(odd) > .xr-var-name span {\n",
       "  background-color: var(--xr-background-color-row-odd);\n",
       "}\n",
       "\n",
       ".xr-var-name {\n",
       "  grid-column: 1;\n",
       "}\n",
       "\n",
       ".xr-var-dims {\n",
       "  grid-column: 2;\n",
       "}\n",
       "\n",
       ".xr-var-dtype {\n",
       "  grid-column: 3;\n",
       "  text-align: right;\n",
       "  color: var(--xr-font-color2);\n",
       "}\n",
       "\n",
       ".xr-var-preview {\n",
       "  grid-column: 4;\n",
       "}\n",
       "\n",
       ".xr-var-name,\n",
       ".xr-var-dims,\n",
       ".xr-var-dtype,\n",
       ".xr-preview,\n",
       ".xr-attrs dt {\n",
       "  white-space: nowrap;\n",
       "  overflow: hidden;\n",
       "  text-overflow: ellipsis;\n",
       "  padding-right: 10px;\n",
       "}\n",
       "\n",
       ".xr-var-name:hover,\n",
       ".xr-var-dims:hover,\n",
       ".xr-var-dtype:hover,\n",
       ".xr-attrs dt:hover {\n",
       "  overflow: visible;\n",
       "  width: auto;\n",
       "  z-index: 1;\n",
       "}\n",
       "\n",
       ".xr-var-attrs,\n",
       ".xr-var-data {\n",
       "  display: none;\n",
       "  background-color: var(--xr-background-color) !important;\n",
       "  padding-bottom: 5px !important;\n",
       "}\n",
       "\n",
       ".xr-var-attrs-in:checked ~ .xr-var-attrs,\n",
       ".xr-var-data-in:checked ~ .xr-var-data {\n",
       "  display: block;\n",
       "}\n",
       "\n",
       ".xr-var-data > table {\n",
       "  float: right;\n",
       "}\n",
       "\n",
       ".xr-var-name span,\n",
       ".xr-var-data,\n",
       ".xr-attrs {\n",
       "  padding-left: 25px !important;\n",
       "}\n",
       "\n",
       ".xr-attrs,\n",
       ".xr-var-attrs,\n",
       ".xr-var-data {\n",
       "  grid-column: 1 / -1;\n",
       "}\n",
       "\n",
       "dl.xr-attrs {\n",
       "  padding: 0;\n",
       "  margin: 0;\n",
       "  display: grid;\n",
       "  grid-template-columns: 125px auto;\n",
       "}\n",
       "\n",
       ".xr-attrs dt,\n",
       ".xr-attrs dd {\n",
       "  padding: 0;\n",
       "  margin: 0;\n",
       "  float: left;\n",
       "  padding-right: 10px;\n",
       "  width: auto;\n",
       "}\n",
       "\n",
       ".xr-attrs dt {\n",
       "  font-weight: normal;\n",
       "  grid-column: 1;\n",
       "}\n",
       "\n",
       ".xr-attrs dt:hover span {\n",
       "  display: inline-block;\n",
       "  background: var(--xr-background-color);\n",
       "  padding-right: 10px;\n",
       "}\n",
       "\n",
       ".xr-attrs dd {\n",
       "  grid-column: 2;\n",
       "  white-space: pre-wrap;\n",
       "  word-break: break-all;\n",
       "}\n",
       "\n",
       ".xr-icon-database,\n",
       ".xr-icon-file-text2 {\n",
       "  display: inline-block;\n",
       "  vertical-align: middle;\n",
       "  width: 1em;\n",
       "  height: 1.5em !important;\n",
       "  stroke-width: 0;\n",
       "  stroke: currentColor;\n",
       "  fill: currentColor;\n",
       "}\n",
       "</style><pre class='xr-text-repr-fallback'>&lt;xarray.Dataset&gt;\n",
       "Dimensions:                         (lat: 1800, latv: 2, lon: 3600, lonv: 2, nv: 2, time: 1)\n",
       "Coordinates:\n",
       "  * time                            (time) object 2021-04-06 00:00:00\n",
       "  * lon                             (lon) float32 -179.9 -179.9 ... 179.9 179.9\n",
       "  * lat                             (lat) float32 -89.95 -89.85 ... 89.85 89.95\n",
       "Dimensions without coordinates: latv, lonv, nv\n",
       "Data variables: (12/13)\n",
       "    time_bnds                       (time, nv) object 2021-04-06 00:00:00 202...\n",
       "    lon_bnds                        (lon, lonv) float32 -180.0 -179.9 ... 180.0\n",
       "    lat_bnds                        (lat, latv) float32 -90.0 -89.9 ... 90.0\n",
       "    precipitationCal                (time, lon, lat) float32 ...\n",
       "    precipitationUncal              (time, lon, lat) float32 ...\n",
       "    randomError                     (time, lon, lat) float32 ...\n",
       "    ...                              ...\n",
       "    HQprecipSource                  (time, lon, lat) float32 ...\n",
       "    HQobservationTime               (time, lon, lat) timedelta64[ns] ...\n",
       "    IRprecipitation                 (time, lon, lat) float32 ...\n",
       "    IRkalmanFilterWeight            (time, lon, lat) float32 ...\n",
       "    probabilityLiquidPrecipitation  (time, lon, lat) float32 ...\n",
       "    precipitationQualityIndex       (time, lon, lat) float32 ...\n",
       "Attributes:\n",
       "    GridHeader:  BinMethod=ARITHMETIC_MEAN;\\nRegistration=CENTER;\\nLatitudeRe...</pre><div class='xr-wrap' hidden><div class='xr-header'><div class='xr-obj-type'>xarray.Dataset</div></div><ul class='xr-sections'><li class='xr-section-item'><input id='section-4bd696ae-2684-4bbe-9e91-9b815d25eb05' class='xr-section-summary-in' type='checkbox' disabled ><label for='section-4bd696ae-2684-4bbe-9e91-9b815d25eb05' class='xr-section-summary'  title='Expand/collapse section'>Dimensions:</label><div class='xr-section-inline-details'><ul class='xr-dim-list'><li><span class='xr-has-index'>lat</span>: 1800</li><li><span>latv</span>: 2</li><li><span class='xr-has-index'>lon</span>: 3600</li><li><span>lonv</span>: 2</li><li><span>nv</span>: 2</li><li><span class='xr-has-index'>time</span>: 1</li></ul></div><div class='xr-section-details'></div></li><li class='xr-section-item'><input id='section-4499b1a4-3081-4c40-b3c5-be4d0a849efc' class='xr-section-summary-in' type='checkbox'  checked><label for='section-4499b1a4-3081-4c40-b3c5-be4d0a849efc' class='xr-section-summary' >Coordinates: <span>(3)</span></label><div class='xr-section-inline-details'></div><div class='xr-section-details'><ul class='xr-var-list'><li class='xr-var-item'><div class='xr-var-name'><span class='xr-has-index'>time</span></div><div class='xr-var-dims'>(time)</div><div class='xr-var-dtype'>object</div><div class='xr-var-preview xr-preview'>2021-04-06 00:00:00</div><input id='attrs-2a9784bd-c13c-4468-be0c-d30066fb3c1b' class='xr-var-attrs-in' type='checkbox' ><label for='attrs-2a9784bd-c13c-4468-be0c-d30066fb3c1b' title='Show/Hide attributes'><svg class='icon xr-icon-file-text2'><use xlink:href='#icon-file-text2'></use></svg></label><input id='data-14504c80-821f-4255-b005-429b7b73e452' class='xr-var-data-in' type='checkbox'><label for='data-14504c80-821f-4255-b005-429b7b73e452' title='Show/Hide data repr'><svg class='icon xr-icon-database'><use xlink:href='#icon-database'></use></svg></label><div class='xr-var-attrs'><dl class='xr-attrs'><dt><span>DimensionNames :</span></dt><dd>time</dd><dt><span>Units :</span></dt><dd>seconds since 1970-01-01 00:00:00 UTC</dd><dt><span>standard_name :</span></dt><dd>time</dd><dt><span>LongName :</span></dt><dd>Representative time of data in \n",
       "\t\t\tseconds since 1970-01-01 00:00:00 UTC.</dd><dt><span>bounds :</span></dt><dd>time_bnds</dd><dt><span>axis :</span></dt><dd>T</dd></dl></div><div class='xr-var-data'><pre>array([cftime.DatetimeJulian(2021, 4, 6, 0, 0, 0, 0, has_year_zero=False)],\n",
       "      dtype=object)</pre></div></li><li class='xr-var-item'><div class='xr-var-name'><span class='xr-has-index'>lon</span></div><div class='xr-var-dims'>(lon)</div><div class='xr-var-dtype'>float32</div><div class='xr-var-preview xr-preview'>-179.9 -179.9 ... 179.9 179.9</div><input id='attrs-cc8ba326-b439-4124-b687-73366827303f' class='xr-var-attrs-in' type='checkbox' ><label for='attrs-cc8ba326-b439-4124-b687-73366827303f' title='Show/Hide attributes'><svg class='icon xr-icon-file-text2'><use xlink:href='#icon-file-text2'></use></svg></label><input id='data-7ea25a40-0706-47e4-aa9b-cbddb9a0955b' class='xr-var-data-in' type='checkbox'><label for='data-7ea25a40-0706-47e4-aa9b-cbddb9a0955b' title='Show/Hide data repr'><svg class='icon xr-icon-database'><use xlink:href='#icon-database'></use></svg></label><div class='xr-var-attrs'><dl class='xr-attrs'><dt><span>DimensionNames :</span></dt><dd>lon</dd><dt><span>Units :</span></dt><dd>degrees_east</dd><dt><span>units :</span></dt><dd>degrees_east</dd><dt><span>standard_name :</span></dt><dd>longitude</dd><dt><span>LongName :</span></dt><dd>Longitude at the center of\n",
       "\t\t\t0.10 degree grid intervals of longitude \n",
       "\t\t\tfrom -180 to 180.</dd><dt><span>bounds :</span></dt><dd>lon_bnds</dd><dt><span>axis :</span></dt><dd>X</dd></dl></div><div class='xr-var-data'><pre>array([-179.95, -179.85, -179.75, ...,  179.75,  179.85,  179.95],\n",
       "      dtype=float32)</pre></div></li><li class='xr-var-item'><div class='xr-var-name'><span class='xr-has-index'>lat</span></div><div class='xr-var-dims'>(lat)</div><div class='xr-var-dtype'>float32</div><div class='xr-var-preview xr-preview'>-89.95 -89.85 ... 89.85 89.95</div><input id='attrs-19489be2-f48d-49a2-a0a7-758740dbdf85' class='xr-var-attrs-in' type='checkbox' ><label for='attrs-19489be2-f48d-49a2-a0a7-758740dbdf85' title='Show/Hide attributes'><svg class='icon xr-icon-file-text2'><use xlink:href='#icon-file-text2'></use></svg></label><input id='data-9c0cd073-3289-4084-b97c-c45913075c9c' class='xr-var-data-in' type='checkbox'><label for='data-9c0cd073-3289-4084-b97c-c45913075c9c' title='Show/Hide data repr'><svg class='icon xr-icon-database'><use xlink:href='#icon-database'></use></svg></label><div class='xr-var-attrs'><dl class='xr-attrs'><dt><span>DimensionNames :</span></dt><dd>lat</dd><dt><span>Units :</span></dt><dd>degrees_north</dd><dt><span>units :</span></dt><dd>degrees_north</dd><dt><span>standard_name :</span></dt><dd>latitude</dd><dt><span>LongName :</span></dt><dd>Latitude at the center of\n",
       "\t\t\t0.10 degree grid intervals of latitude\n",
       "\t\t\tfrom -90 to 90.</dd><dt><span>bounds :</span></dt><dd>lat_bnds</dd><dt><span>axis :</span></dt><dd>Y</dd></dl></div><div class='xr-var-data'><pre>array([-89.95, -89.85, -89.75, ...,  89.75,  89.85,  89.95], dtype=float32)</pre></div></li></ul></div></li><li class='xr-section-item'><input id='section-1d8c4003-200c-458b-a067-4e43cf4b258c' class='xr-section-summary-in' type='checkbox'  checked><label for='section-1d8c4003-200c-458b-a067-4e43cf4b258c' class='xr-section-summary' >Data variables: <span>(13)</span></label><div class='xr-section-inline-details'></div><div class='xr-section-details'><ul class='xr-var-list'><li class='xr-var-item'><div class='xr-var-name'><span>time_bnds</span></div><div class='xr-var-dims'>(time, nv)</div><div class='xr-var-dtype'>object</div><div class='xr-var-preview xr-preview'>...</div><input id='attrs-3f7f26e0-524a-4ab1-b89f-6cc121f9f444' class='xr-var-attrs-in' type='checkbox' ><label for='attrs-3f7f26e0-524a-4ab1-b89f-6cc121f9f444' title='Show/Hide attributes'><svg class='icon xr-icon-file-text2'><use xlink:href='#icon-file-text2'></use></svg></label><input id='data-68f7c10a-a593-4155-9603-ee5e90e6764e' class='xr-var-data-in' type='checkbox'><label for='data-68f7c10a-a593-4155-9603-ee5e90e6764e' title='Show/Hide data repr'><svg class='icon xr-icon-database'><use xlink:href='#icon-database'></use></svg></label><div class='xr-var-attrs'><dl class='xr-attrs'><dt><span>DimensionNames :</span></dt><dd>time,nv</dd><dt><span>Units :</span></dt><dd>seconds since 1970-01-01 00:00:00 UTC</dd><dt><span>coordinates :</span></dt><dd>time nv</dd></dl></div><div class='xr-var-data'><pre>array([[cftime.DatetimeJulian(2021, 4, 6, 0, 0, 0, 0, has_year_zero=False),\n",
       "        cftime.DatetimeJulian(2021, 4, 6, 0, 30, 0, 0, has_year_zero=False)]],\n",
       "      dtype=object)</pre></div></li><li class='xr-var-item'><div class='xr-var-name'><span>lon_bnds</span></div><div class='xr-var-dims'>(lon, lonv)</div><div class='xr-var-dtype'>float32</div><div class='xr-var-preview xr-preview'>...</div><input id='attrs-fceae865-18c3-4f6f-9f50-44d1867b1297' class='xr-var-attrs-in' type='checkbox' ><label for='attrs-fceae865-18c3-4f6f-9f50-44d1867b1297' title='Show/Hide attributes'><svg class='icon xr-icon-file-text2'><use xlink:href='#icon-file-text2'></use></svg></label><input id='data-de7e7526-d725-4d15-a08b-c9c637b9d8d7' class='xr-var-data-in' type='checkbox'><label for='data-de7e7526-d725-4d15-a08b-c9c637b9d8d7' title='Show/Hide data repr'><svg class='icon xr-icon-database'><use xlink:href='#icon-database'></use></svg></label><div class='xr-var-attrs'><dl class='xr-attrs'><dt><span>DimensionNames :</span></dt><dd>lon,lonv</dd><dt><span>Units :</span></dt><dd>degrees_east</dd><dt><span>units :</span></dt><dd>degrees_east</dd><dt><span>coordinates :</span></dt><dd>lon lonv</dd></dl></div><div class='xr-var-data'><pre>array([[-180.     , -179.9    ],\n",
       "       [-179.90001, -179.8    ],\n",
       "       [-179.8    , -179.7    ],\n",
       "       ...,\n",
       "       [ 179.7    ,  179.8    ],\n",
       "       [ 179.8    ,  179.90001],\n",
       "       [ 179.9    ,  180.     ]], dtype=float32)</pre></div></li><li class='xr-var-item'><div class='xr-var-name'><span>lat_bnds</span></div><div class='xr-var-dims'>(lat, latv)</div><div class='xr-var-dtype'>float32</div><div class='xr-var-preview xr-preview'>...</div><input id='attrs-cbfe6e33-6936-4434-b8b6-b049b8921a48' class='xr-var-attrs-in' type='checkbox' ><label for='attrs-cbfe6e33-6936-4434-b8b6-b049b8921a48' title='Show/Hide attributes'><svg class='icon xr-icon-file-text2'><use xlink:href='#icon-file-text2'></use></svg></label><input id='data-ae2b8dcb-013e-4e46-8aef-2695dd7bd302' class='xr-var-data-in' type='checkbox'><label for='data-ae2b8dcb-013e-4e46-8aef-2695dd7bd302' title='Show/Hide data repr'><svg class='icon xr-icon-database'><use xlink:href='#icon-database'></use></svg></label><div class='xr-var-attrs'><dl class='xr-attrs'><dt><span>DimensionNames :</span></dt><dd>lat,latv</dd><dt><span>Units :</span></dt><dd>degrees_north</dd><dt><span>units :</span></dt><dd>degrees_north</dd><dt><span>coordinates :</span></dt><dd>lat latv</dd></dl></div><div class='xr-var-data'><pre>array([[-90.      , -89.899994],\n",
       "       [-89.9     , -89.799995],\n",
       "       [-89.8     , -89.7     ],\n",
       "       ...,\n",
       "       [ 89.7     ,  89.8     ],\n",
       "       [ 89.799995,  89.9     ],\n",
       "       [ 89.899994,  90.      ]], dtype=float32)</pre></div></li><li class='xr-var-item'><div class='xr-var-name'><span>precipitationCal</span></div><div class='xr-var-dims'>(time, lon, lat)</div><div class='xr-var-dtype'>float32</div><div class='xr-var-preview xr-preview'>...</div><input id='attrs-6f4560c6-4fa4-4710-9820-5099d0a42c60' class='xr-var-attrs-in' type='checkbox' ><label for='attrs-6f4560c6-4fa4-4710-9820-5099d0a42c60' title='Show/Hide attributes'><svg class='icon xr-icon-file-text2'><use xlink:href='#icon-file-text2'></use></svg></label><input id='data-bbb2c5f6-8643-4a5a-8d78-455c3924d11d' class='xr-var-data-in' type='checkbox'><label for='data-bbb2c5f6-8643-4a5a-8d78-455c3924d11d' title='Show/Hide data repr'><svg class='icon xr-icon-database'><use xlink:href='#icon-database'></use></svg></label><div class='xr-var-attrs'><dl class='xr-attrs'><dt><span>DimensionNames :</span></dt><dd>time,lon,lat</dd><dt><span>Units :</span></dt><dd>mm/hr</dd><dt><span>units :</span></dt><dd>mm/hr</dd><dt><span>CodeMissingValue :</span></dt><dd>-9999.9</dd></dl></div><div class='xr-var-data'><pre>[6480000 values with dtype=float32]</pre></div></li><li class='xr-var-item'><div class='xr-var-name'><span>precipitationUncal</span></div><div class='xr-var-dims'>(time, lon, lat)</div><div class='xr-var-dtype'>float32</div><div class='xr-var-preview xr-preview'>...</div><input id='attrs-f429668b-aab7-4127-839b-17c38e0dcd7c' class='xr-var-attrs-in' type='checkbox' ><label for='attrs-f429668b-aab7-4127-839b-17c38e0dcd7c' title='Show/Hide attributes'><svg class='icon xr-icon-file-text2'><use xlink:href='#icon-file-text2'></use></svg></label><input id='data-92b22771-a262-41e1-9d4f-1f4609b996cd' class='xr-var-data-in' type='checkbox'><label for='data-92b22771-a262-41e1-9d4f-1f4609b996cd' title='Show/Hide data repr'><svg class='icon xr-icon-database'><use xlink:href='#icon-database'></use></svg></label><div class='xr-var-attrs'><dl class='xr-attrs'><dt><span>DimensionNames :</span></dt><dd>time,lon,lat</dd><dt><span>Units :</span></dt><dd>mm/hr</dd><dt><span>units :</span></dt><dd>mm/hr</dd><dt><span>CodeMissingValue :</span></dt><dd>-9999.9</dd></dl></div><div class='xr-var-data'><pre>[6480000 values with dtype=float32]</pre></div></li><li class='xr-var-item'><div class='xr-var-name'><span>randomError</span></div><div class='xr-var-dims'>(time, lon, lat)</div><div class='xr-var-dtype'>float32</div><div class='xr-var-preview xr-preview'>...</div><input id='attrs-759c9245-ab91-4181-8840-90c4bee00ab3' class='xr-var-attrs-in' type='checkbox' ><label for='attrs-759c9245-ab91-4181-8840-90c4bee00ab3' title='Show/Hide attributes'><svg class='icon xr-icon-file-text2'><use xlink:href='#icon-file-text2'></use></svg></label><input id='data-375d161e-5d7f-4bf4-8c70-896d3c8723b5' class='xr-var-data-in' type='checkbox'><label for='data-375d161e-5d7f-4bf4-8c70-896d3c8723b5' title='Show/Hide data repr'><svg class='icon xr-icon-database'><use xlink:href='#icon-database'></use></svg></label><div class='xr-var-attrs'><dl class='xr-attrs'><dt><span>DimensionNames :</span></dt><dd>time,lon,lat</dd><dt><span>Units :</span></dt><dd>mm/hr</dd><dt><span>units :</span></dt><dd>mm/hr</dd><dt><span>CodeMissingValue :</span></dt><dd>-9999.9</dd></dl></div><div class='xr-var-data'><pre>[6480000 values with dtype=float32]</pre></div></li><li class='xr-var-item'><div class='xr-var-name'><span>HQprecipitation</span></div><div class='xr-var-dims'>(time, lon, lat)</div><div class='xr-var-dtype'>float32</div><div class='xr-var-preview xr-preview'>...</div><input id='attrs-9e83e9a9-4fc3-493c-bde6-56e1289666e0' class='xr-var-attrs-in' type='checkbox' ><label for='attrs-9e83e9a9-4fc3-493c-bde6-56e1289666e0' title='Show/Hide attributes'><svg class='icon xr-icon-file-text2'><use xlink:href='#icon-file-text2'></use></svg></label><input id='data-2258f3a1-2f81-4d24-b034-58e31add1538' class='xr-var-data-in' type='checkbox'><label for='data-2258f3a1-2f81-4d24-b034-58e31add1538' title='Show/Hide data repr'><svg class='icon xr-icon-database'><use xlink:href='#icon-database'></use></svg></label><div class='xr-var-attrs'><dl class='xr-attrs'><dt><span>DimensionNames :</span></dt><dd>time,lon,lat</dd><dt><span>Units :</span></dt><dd>mm/hr</dd><dt><span>units :</span></dt><dd>mm/hr</dd><dt><span>CodeMissingValue :</span></dt><dd>-9999.9</dd></dl></div><div class='xr-var-data'><pre>[6480000 values with dtype=float32]</pre></div></li><li class='xr-var-item'><div class='xr-var-name'><span>HQprecipSource</span></div><div class='xr-var-dims'>(time, lon, lat)</div><div class='xr-var-dtype'>float32</div><div class='xr-var-preview xr-preview'>...</div><input id='attrs-028cf52a-3634-4c2e-9e83-6ad8ad258fc4' class='xr-var-attrs-in' type='checkbox' ><label for='attrs-028cf52a-3634-4c2e-9e83-6ad8ad258fc4' title='Show/Hide attributes'><svg class='icon xr-icon-file-text2'><use xlink:href='#icon-file-text2'></use></svg></label><input id='data-245ba62a-6a05-40bc-b583-b94749adac5d' class='xr-var-data-in' type='checkbox'><label for='data-245ba62a-6a05-40bc-b583-b94749adac5d' title='Show/Hide data repr'><svg class='icon xr-icon-database'><use xlink:href='#icon-database'></use></svg></label><div class='xr-var-attrs'><dl class='xr-attrs'><dt><span>DimensionNames :</span></dt><dd>time,lon,lat</dd><dt><span>CodeMissingValue :</span></dt><dd>-9999</dd></dl></div><div class='xr-var-data'><pre>[6480000 values with dtype=float32]</pre></div></li><li class='xr-var-item'><div class='xr-var-name'><span>HQobservationTime</span></div><div class='xr-var-dims'>(time, lon, lat)</div><div class='xr-var-dtype'>timedelta64[ns]</div><div class='xr-var-preview xr-preview'>...</div><input id='attrs-bb222f3d-c182-4381-8339-eefec310ebae' class='xr-var-attrs-in' type='checkbox' ><label for='attrs-bb222f3d-c182-4381-8339-eefec310ebae' title='Show/Hide attributes'><svg class='icon xr-icon-file-text2'><use xlink:href='#icon-file-text2'></use></svg></label><input id='data-8fffd3ab-5ac9-4786-8e0b-d1496f13d63b' class='xr-var-data-in' type='checkbox'><label for='data-8fffd3ab-5ac9-4786-8e0b-d1496f13d63b' title='Show/Hide data repr'><svg class='icon xr-icon-database'><use xlink:href='#icon-database'></use></svg></label><div class='xr-var-attrs'><dl class='xr-attrs'><dt><span>DimensionNames :</span></dt><dd>time,lon,lat</dd><dt><span>Units :</span></dt><dd>minutes</dd><dt><span>CodeMissingValue :</span></dt><dd>-9999</dd></dl></div><div class='xr-var-data'><pre>[6480000 values with dtype=timedelta64[ns]]</pre></div></li><li class='xr-var-item'><div class='xr-var-name'><span>IRprecipitation</span></div><div class='xr-var-dims'>(time, lon, lat)</div><div class='xr-var-dtype'>float32</div><div class='xr-var-preview xr-preview'>...</div><input id='attrs-8459280c-9ea5-4a44-912a-a1bbf754b249' class='xr-var-attrs-in' type='checkbox' ><label for='attrs-8459280c-9ea5-4a44-912a-a1bbf754b249' title='Show/Hide attributes'><svg class='icon xr-icon-file-text2'><use xlink:href='#icon-file-text2'></use></svg></label><input id='data-a2fe933c-3c55-4328-9bc3-6fd2e63b3c63' class='xr-var-data-in' type='checkbox'><label for='data-a2fe933c-3c55-4328-9bc3-6fd2e63b3c63' title='Show/Hide data repr'><svg class='icon xr-icon-database'><use xlink:href='#icon-database'></use></svg></label><div class='xr-var-attrs'><dl class='xr-attrs'><dt><span>DimensionNames :</span></dt><dd>time,lon,lat</dd><dt><span>Units :</span></dt><dd>mm/hr</dd><dt><span>units :</span></dt><dd>mm/hr</dd><dt><span>CodeMissingValue :</span></dt><dd>-9999.9</dd></dl></div><div class='xr-var-data'><pre>[6480000 values with dtype=float32]</pre></div></li><li class='xr-var-item'><div class='xr-var-name'><span>IRkalmanFilterWeight</span></div><div class='xr-var-dims'>(time, lon, lat)</div><div class='xr-var-dtype'>float32</div><div class='xr-var-preview xr-preview'>...</div><input id='attrs-bc55ba02-0854-4ab7-a29e-5f30353b8af9' class='xr-var-attrs-in' type='checkbox' ><label for='attrs-bc55ba02-0854-4ab7-a29e-5f30353b8af9' title='Show/Hide attributes'><svg class='icon xr-icon-file-text2'><use xlink:href='#icon-file-text2'></use></svg></label><input id='data-86f32243-ba0d-4e18-bbe5-e525dd0cead7' class='xr-var-data-in' type='checkbox'><label for='data-86f32243-ba0d-4e18-bbe5-e525dd0cead7' title='Show/Hide data repr'><svg class='icon xr-icon-database'><use xlink:href='#icon-database'></use></svg></label><div class='xr-var-attrs'><dl class='xr-attrs'><dt><span>DimensionNames :</span></dt><dd>time,lon,lat</dd><dt><span>CodeMissingValue :</span></dt><dd>-9999</dd></dl></div><div class='xr-var-data'><pre>[6480000 values with dtype=float32]</pre></div></li><li class='xr-var-item'><div class='xr-var-name'><span>probabilityLiquidPrecipitation</span></div><div class='xr-var-dims'>(time, lon, lat)</div><div class='xr-var-dtype'>float32</div><div class='xr-var-preview xr-preview'>...</div><input id='attrs-2f697449-a1f2-4d15-bc68-82dec772c658' class='xr-var-attrs-in' type='checkbox' ><label for='attrs-2f697449-a1f2-4d15-bc68-82dec772c658' title='Show/Hide attributes'><svg class='icon xr-icon-file-text2'><use xlink:href='#icon-file-text2'></use></svg></label><input id='data-63914b57-3ede-4cc3-94dd-0345e564cea4' class='xr-var-data-in' type='checkbox'><label for='data-63914b57-3ede-4cc3-94dd-0345e564cea4' title='Show/Hide data repr'><svg class='icon xr-icon-database'><use xlink:href='#icon-database'></use></svg></label><div class='xr-var-attrs'><dl class='xr-attrs'><dt><span>DimensionNames :</span></dt><dd>time,lon,lat</dd><dt><span>Units :</span></dt><dd>percent</dd><dt><span>units :</span></dt><dd>percent</dd><dt><span>CodeMissingValue :</span></dt><dd>-9999</dd></dl></div><div class='xr-var-data'><pre>[6480000 values with dtype=float32]</pre></div></li><li class='xr-var-item'><div class='xr-var-name'><span>precipitationQualityIndex</span></div><div class='xr-var-dims'>(time, lon, lat)</div><div class='xr-var-dtype'>float32</div><div class='xr-var-preview xr-preview'>...</div><input id='attrs-794f73a6-3e2c-45fc-b397-755d7498adaf' class='xr-var-attrs-in' type='checkbox' ><label for='attrs-794f73a6-3e2c-45fc-b397-755d7498adaf' title='Show/Hide attributes'><svg class='icon xr-icon-file-text2'><use xlink:href='#icon-file-text2'></use></svg></label><input id='data-d70562aa-4d37-405d-a932-536a1d34d514' class='xr-var-data-in' type='checkbox'><label for='data-d70562aa-4d37-405d-a932-536a1d34d514' title='Show/Hide data repr'><svg class='icon xr-icon-database'><use xlink:href='#icon-database'></use></svg></label><div class='xr-var-attrs'><dl class='xr-attrs'><dt><span>DimensionNames :</span></dt><dd>time,lon,lat</dd><dt><span>CodeMissingValue :</span></dt><dd>-9999.9</dd></dl></div><div class='xr-var-data'><pre>[6480000 values with dtype=float32]</pre></div></li></ul></div></li><li class='xr-section-item'><input id='section-fbb705c4-fe94-407d-9d70-c7919c2ecec4' class='xr-section-summary-in' type='checkbox'  checked><label for='section-fbb705c4-fe94-407d-9d70-c7919c2ecec4' class='xr-section-summary' >Attributes: <span>(1)</span></label><div class='xr-section-inline-details'></div><div class='xr-section-details'><dl class='xr-attrs'><dt><span>GridHeader :</span></dt><dd>BinMethod=ARITHMETIC_MEAN;\n",
       "Registration=CENTER;\n",
       "LatitudeResolution=0.1;\n",
       "LongitudeResolution=0.1;\n",
       "NorthBoundingCoordinate=90;\n",
       "SouthBoundingCoordinate=-90;\n",
       "EastBoundingCoordinate=180;\n",
       "WestBoundingCoordinate=-180;\n",
       "Origin=SOUTHWEST;\n",
       "</dd></dl></div></li></ul></div></div>"
      ],
      "text/plain": [
       "<xarray.Dataset>\n",
       "Dimensions:                         (lat: 1800, latv: 2, lon: 3600, lonv: 2, nv: 2, time: 1)\n",
       "Coordinates:\n",
       "  * time                            (time) object 2021-04-06 00:00:00\n",
       "  * lon                             (lon) float32 -179.9 -179.9 ... 179.9 179.9\n",
       "  * lat                             (lat) float32 -89.95 -89.85 ... 89.85 89.95\n",
       "Dimensions without coordinates: latv, lonv, nv\n",
       "Data variables: (12/13)\n",
       "    time_bnds                       (time, nv) object ...\n",
       "    lon_bnds                        (lon, lonv) float32 ...\n",
       "    lat_bnds                        (lat, latv) float32 ...\n",
       "    precipitationCal                (time, lon, lat) float32 ...\n",
       "    precipitationUncal              (time, lon, lat) float32 ...\n",
       "    randomError                     (time, lon, lat) float32 ...\n",
       "    ...                              ...\n",
       "    HQprecipSource                  (time, lon, lat) float32 ...\n",
       "    HQobservationTime               (time, lon, lat) timedelta64[ns] ...\n",
       "    IRprecipitation                 (time, lon, lat) float32 ...\n",
       "    IRkalmanFilterWeight            (time, lon, lat) float32 ...\n",
       "    probabilityLiquidPrecipitation  (time, lon, lat) float32 ...\n",
       "    precipitationQualityIndex       (time, lon, lat) float32 ...\n",
       "Attributes:\n",
       "    GridHeader:  BinMethod=ARITHMETIC_MEAN;\\nRegistration=CENTER;\\nLatitudeRe..."
      ]
     },
     "execution_count": 26,
     "metadata": {},
     "output_type": "execute_result"
    }
   ],
   "source": [
    "# Figure out the average file size for estimating files per chunk\n",
    "import xarray as xr\n",
    "\n",
    "ds = xr.open_dataset(\"../../data/3B-HHR.MS.MRG.3IMERG.20210406-S000000-E002959.0000.V06B.HDF5\", group=\"Grid\")\n",
    "ds\n"
   ]
  },
  {
   "cell_type": "code",
   "execution_count": 27,
   "id": "95e26c67-d6bf-431a-ba49-37e8cc996b99",
   "metadata": {},
   "outputs": [
    {
     "name": "stdout",
     "output_type": "stream",
     "text": [
      "File size is 285.184824 MB\n"
     ]
    }
   ],
   "source": [
    "print(f\"File size is {ds.nbytes/1e6} MB\")"
   ]
  },
  {
   "cell_type": "code",
   "execution_count": 26,
   "id": "8df8c855-b364-498e-b2ab-140530c4bf0c",
   "metadata": {},
   "outputs": [],
   "source": [
    "#url example\n",
    "# https://arthurhouhttps.pps.eosdis.nasa.gov/gpmdata/2021/04/30/imerg/3B-HHR.MS.MRG.3IMERG.20210430-S000000-E002959.0000.V06B.HDF5\n",
    "# Login is via the PPS system, username/password is the email address you register with\n",
    "input_url_pattern = (\n",
    "    \"https://arthurhouhttps.pps.eosdis.nasa.gov/gpmdata/{yyyy}/{mm}/{dd}/imerg/3B-HHR.MS.MRG.3IMERG.{yyyymmdd}-S{sh}{sm}00-E{eh}{em}59.{MMMM}.V06B.HDF5\"\n",
    ")"
   ]
  },
  {
   "cell_type": "code",
   "execution_count": 29,
   "id": "62a3cd82-2ed6-44b1-851f-d3bf3485f0b0",
   "metadata": {},
   "outputs": [
    {
     "name": "stdout",
     "output_type": "stream",
     "text": [
      "Found 368160 files!\n"
     ]
    },
    {
     "data": {
      "text/plain": [
       "'https://arthurhouhttps.pps.eosdis.nasa.gov/gpmdata/2021/05/11/imerg/3B-HHR.MS.MRG.3IMERG.20210511-S033000-E035959.0210.V06B.HDF5'"
      ]
     },
     "execution_count": 29,
     "metadata": {},
     "output_type": "execute_result"
    }
   ],
   "source": [
    "#June 2000 to \n",
    "dates = pd.date_range(\"2000-06-01T00:00:00\", \"2021-05-31T23:59:59\", freq=\"30min\")\n",
    "input_urls = [\n",
    "    input_url_pattern.format(\n",
    "        yyyy=hhr.strftime(\"%Y\"),\n",
    "        mm = hhr.strftime(\"%m\"),\n",
    "        dd = hhr.strftime(\"%d\"),\n",
    "        yyyymmdd=hhr.strftime(\"%Y%m%d\"),\n",
    "        sh = hhr.strftime(\"%H\"),\n",
    "        sm = hhr.strftime(\"%M\"),\n",
    "        eh = hhr.strftime(\"%H\"),\n",
    "        em = (hhr+pd.Timedelta(\"29 min\")).strftime(\"%M\"),\n",
    "        MMMM = f'{(hhr.hour*60 + hhr.minute):04}'\n",
    "    )\n",
    "    for hhr in dates\n",
    "]\n",
    "print(f\"Found {len(input_urls)} files!\")\n",
    "input_urls[-1001]\n"
   ]
  },
  {
   "cell_type": "code",
   "execution_count": 8,
   "id": "43cb55e6-1400-4931-80d6-a506c61e0e5f",
   "metadata": {},
   "outputs": [
    {
     "data": {
      "text/plain": [
       "<FilePattern {'time': 7670}>"
      ]
     },
     "execution_count": 8,
     "metadata": {},
     "output_type": "execute_result"
    }
   ],
   "source": [
    "pattern = pattern_from_file_sequence(input_urls, \"time\", nitems_per_file=1)\n",
    "pattern"
   ]
  },
  {
   "cell_type": "code",
   "execution_count": 9,
   "id": "5abc1204-d482-41fc-b2ff-39baf7f5cb43",
   "metadata": {},
   "outputs": [
    {
     "data": {
      "text/plain": [
       "(DimIndex(name='time', index=0, sequence_len=7670, operation=<CombineOp.CONCAT: 2>))"
      ]
     },
     "execution_count": 9,
     "metadata": {},
     "output_type": "execute_result"
    }
   ],
   "source": [
    "for key in pattern:\n",
    "    break\n",
    "key"
   ]
  },
  {
   "cell_type": "code",
   "execution_count": 10,
   "id": "23bfc9b3-3a6b-4c93-997a-7832ea4e0f3a",
   "metadata": {},
   "outputs": [
    {
     "data": {
      "text/plain": [
       "'https://arthurhouhttps.pps.eosdis.nasa.gov/gpmdata/2000/06/01/imerg/3B-HHR.MS.MRG.3IMERG.20000601-S000000-E002959.0000.V06B.HDF5'"
      ]
     },
     "execution_count": 10,
     "metadata": {},
     "output_type": "execute_result"
    }
   ],
   "source": [
    "pattern[key]"
   ]
  },
  {
   "cell_type": "code",
   "execution_count": 34,
   "id": "744b26be-00da-4e85-a97c-d609e7e671b9",
   "metadata": {},
   "outputs": [
    {
     "data": {
      "text/plain": [
       "XarrayZarrRecipe(file_pattern=<FilePattern {'time': 7670}>, inputs_per_chunk=1, target_chunks={}, target=None, input_cache=None, metadata_cache=None, cache_inputs=True, copy_input_to_local_file=False, consolidate_zarr=True, xarray_open_kwargs={'group': 'Grid', 'drop_variables': ['time_bnds', 'lon_bnds', 'lat_bnds']}, xarray_concat_kwargs={}, delete_input_encoding=True, fsspec_open_kwargs={'client_kwargs': {'auth': BasicAuth(login='alex@developmentseed.org', password='alex@developmentseed.org', encoding='latin1')}}, process_input=None, process_chunk=None, lock_timeout=None, subset_inputs={}, is_opendap=False)"
      ]
     },
     "execution_count": 34,
     "metadata": {},
     "output_type": "execute_result"
    }
   ],
   "source": [
    "recipe = XarrayZarrRecipe(\n",
    "    pattern, \n",
    "    xarray_open_kwargs={'group': 'Grid', 'drop_variables': ['time_bnds', 'lon_bnds', 'lat_bnds']},\n",
    "    fsspec_open_kwargs={'client_kwargs': {'auth': aiohttp.BasicAuth(os.environ['GPM_IMERG_USERNAME'], os.environ['GPM_IMERG_PASSWORD'])}},\n",
    "    inputs_per_chunk=1\n",
    ")\n",
    "recipe"
   ]
  },
  {
   "cell_type": "code",
   "execution_count": 35,
   "id": "801210a9-c600-410f-88ed-f9b955ef1730",
   "metadata": {},
   "outputs": [],
   "source": [
    "# Testing\n",
    "import logging\n",
    "logger = logging.getLogger(\"pangeo_forge_recipes\")\n",
    "formatter = logging.Formatter('%(name)s:%(levelname)s - %(message)s')\n",
    "handler = logging.StreamHandler()\n",
    "handler.setLevel(logging.INFO)\n",
    "handler.setFormatter(formatter)\n",
    "logger.setLevel(logging.INFO)\n",
    "logger.addHandler(handler)"
   ]
  },
  {
   "cell_type": "code",
   "execution_count": 36,
   "id": "eedac86d-6862-48d5-b236-bcd23d632d39",
   "metadata": {},
   "outputs": [
    {
     "data": {
      "text/plain": [
       "7670"
      ]
     },
     "execution_count": 36,
     "metadata": {},
     "output_type": "execute_result"
    }
   ],
   "source": [
    "all_inputs = list(recipe.iter_inputs())\n",
    "len(all_inputs)"
   ]
  },
  {
   "cell_type": "code",
   "execution_count": 37,
   "id": "20c2a41e-fa46-4c34-a888-40188aa5ac34",
   "metadata": {},
   "outputs": [
    {
     "data": {
      "text/plain": [
       "7670"
      ]
     },
     "execution_count": 37,
     "metadata": {},
     "output_type": "execute_result"
    }
   ],
   "source": [
    "all_chunks = list(recipe.iter_chunks())\n",
    "len(all_chunks)"
   ]
  },
  {
   "cell_type": "code",
   "execution_count": 38,
   "id": "4bf12042-8041-4263-a40c-5c673f07c219",
   "metadata": {},
   "outputs": [
    {
     "name": "stderr",
     "output_type": "stream",
     "text": [
      "pangeo_forge_recipes.recipes.xarray_zarr:INFO - Opening inputs for chunk time-0\n",
      "pangeo_forge_recipes.recipes.xarray_zarr:INFO - Opening input with Xarray time-0: 'https://arthurhouhttps.pps.eosdis.nasa.gov/gpmdata/2000/06/01/imerg/3B-HHR.MS.MRG.3IMERG.20000601-S000000-E002959.0000.V06B.HDF5'\n",
      "pangeo_forge_recipes.storage:INFO - Opening 'https://arthurhouhttps.pps.eosdis.nasa.gov/gpmdata/2000/06/01/imerg/3B-HHR.MS.MRG.3IMERG.20000601-S000000-E002959.0000.V06B.HDF5' directly.\n"
     ]
    },
    {
     "name": "stdout",
     "output_type": "stream",
     "text": [
      "Exception reporting mode: Minimal\n"
     ]
    },
    {
     "ename": "ClientResponseError",
     "evalue": "401, message='Unauthorized', url=URL('https://arthurhouhttps.pps.eosdis.nasa.gov/gpmdata/2000/06/01/imerg/3B-HHR.MS.MRG.3IMERG.20000601-S000000-E002959.0000.V06B.HDF5')",
     "output_type": "error",
     "traceback": [
      "\u001b[0;31mClientResponseError\u001b[0m\u001b[0;31m:\u001b[0m 401, message='Unauthorized', url=URL('https://arthurhouhttps.pps.eosdis.nasa.gov/gpmdata/2000/06/01/imerg/3B-HHR.MS.MRG.3IMERG.20000601-S000000-E002959.0000.V06B.HDF5')\n"
     ]
    }
   ],
   "source": [
    "%xmode minimal\n",
    "with recipe.open_chunk(all_chunks[0]) as ds:\n",
    "    display(ds)"
   ]
  }
 ],
 "metadata": {
  "kernelspec": {
   "display_name": "Python 3 (ipykernel)",
   "language": "python",
   "name": "python3"
  },
  "language_info": {
   "codemirror_mode": {
    "name": "ipython",
    "version": 3
   },
   "file_extension": ".py",
   "mimetype": "text/x-python",
   "name": "python",
   "nbconvert_exporter": "python",
   "pygments_lexer": "ipython3",
   "version": "3.8.10"
  }
 },
 "nbformat": 4,
 "nbformat_minor": 5
}
